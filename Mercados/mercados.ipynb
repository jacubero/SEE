{
 "cells": [
  {
   "cell_type": "markdown",
   "id": "5d7a6d18",
   "metadata": {},
   "source": [
    "# Listado de Consumidores directos del mercado de electricidad"
   ]
  },
  {
   "cell_type": "code",
   "execution_count": null,
   "id": "70452e00",
   "metadata": {},
   "outputs": [],
   "source": [
    "# https://sede.cnmc.gob.es/listado/censo/8"
   ]
  }
 ],
 "metadata": {
  "language_info": {
   "name": "python"
  }
 },
 "nbformat": 4,
 "nbformat_minor": 5
}

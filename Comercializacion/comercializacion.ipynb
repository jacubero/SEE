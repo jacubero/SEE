{
 "cells": [
  {
   "cell_type": "markdown",
   "id": "dd519cfc",
   "metadata": {},
   "source": [
    "# Listado de Comercializadoras de electricidad"
   ]
  },
  {
   "cell_type": "code",
   "execution_count": null,
   "id": "68e10955",
   "metadata": {},
   "outputs": [],
   "source": [
    "# https://sede.cnmc.gob.es/listado/censo/2\n"
   ]
  },
  {
   "cell_type": "markdown",
   "id": "8f9ac683",
   "metadata": {},
   "source": [
    "# Listado de Comercializadoras de referencia de electricidad"
   ]
  },
  {
   "cell_type": "code",
   "execution_count": null,
   "id": "13f53bad",
   "metadata": {},
   "outputs": [],
   "source": [
    "# https://sede.cnmc.gob.es/listado/censo/16"
   ]
  }
 ],
 "metadata": {
  "language_info": {
   "name": "python"
  }
 },
 "nbformat": 4,
 "nbformat_minor": 5
}

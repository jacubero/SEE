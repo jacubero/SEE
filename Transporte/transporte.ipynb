{
 "cells": [
  {
   "cell_type": "code",
   "execution_count": 1,
   "id": "5f55d509",
   "metadata": {},
   "outputs": [
    {
     "name": "stdout",
     "output_type": "stream",
     "text": [
      "Requirement already satisfied: pandas in /home/codespace/.local/lib/python3.12/site-packages (2.3.1)\n",
      "Collecting openpyxl\n",
      "  Downloading openpyxl-3.1.5-py2.py3-none-any.whl.metadata (2.5 kB)\n",
      "Requirement already satisfied: numpy>=1.26.0 in /home/codespace/.local/lib/python3.12/site-packages (from pandas) (2.3.1)\n",
      "Requirement already satisfied: python-dateutil>=2.8.2 in /home/codespace/.local/lib/python3.12/site-packages (from pandas) (2.9.0.post0)\n",
      "Requirement already satisfied: pytz>=2020.1 in /home/codespace/.local/lib/python3.12/site-packages (from pandas) (2025.2)\n",
      "Requirement already satisfied: tzdata>=2022.7 in /home/codespace/.local/lib/python3.12/site-packages (from pandas) (2025.2)\n",
      "Collecting et-xmlfile (from openpyxl)\n",
      "  Downloading et_xmlfile-2.0.0-py3-none-any.whl.metadata (2.7 kB)\n",
      "Requirement already satisfied: six>=1.5 in /home/codespace/.local/lib/python3.12/site-packages (from python-dateutil>=2.8.2->pandas) (1.17.0)\n",
      "Downloading openpyxl-3.1.5-py2.py3-none-any.whl (250 kB)\n",
      "Downloading et_xmlfile-2.0.0-py3-none-any.whl (18 kB)\n",
      "Installing collected packages: et-xmlfile, openpyxl\n",
      "\u001b[2K   \u001b[90m━━━━━━━━━━━━━━━━━━━━━━━━━━━━━━━━━━━━━━━━\u001b[0m \u001b[32m2/2\u001b[0m [openpyxl]1/2\u001b[0m [openpyxl]\n",
      "\u001b[1A\u001b[2KSuccessfully installed et-xmlfile-2.0.0 openpyxl-3.1.5\n",
      "\n",
      "\u001b[1m[\u001b[0m\u001b[34;49mnotice\u001b[0m\u001b[1;39;49m]\u001b[0m\u001b[39;49m A new release of pip is available: \u001b[0m\u001b[31;49m25.1.1\u001b[0m\u001b[39;49m -> \u001b[0m\u001b[32;49m25.2\u001b[0m\n",
      "\u001b[1m[\u001b[0m\u001b[34;49mnotice\u001b[0m\u001b[1;39;49m]\u001b[0m\u001b[39;49m To update, run: \u001b[0m\u001b[32;49mpython3 -m pip install --upgrade pip\u001b[0m\n"
     ]
    }
   ],
   "source": [
    "!pip install pandas openpyxl\n",
    "\n",
    "import pandas as pd"
   ]
  },
  {
   "cell_type": "markdown",
   "id": "0cb09dd9",
   "metadata": {},
   "source": [
    "# Estructura"
   ]
  },
  {
   "cell_type": "markdown",
   "id": "ac450e38",
   "metadata": {},
   "source": [
    "El sistema eléctrico español consta de sistemas eléctricos. De ellos, el subsistema eléctrico peninsular el de mayor tamaño y por el que pasa el mayor volumen de energía eléctrica: más de 200 GWh al año. En el caso de los territorios no peninsulares, debido a su pequeño tamaño y su carácter aislado, cuentan con características especiales que requieren de una operación singular. Nos referimos a los subsistemas de:"
   ]
  },
  {
   "cell_type": "code",
   "execution_count": 4,
   "id": "e9c1928c",
   "metadata": {},
   "outputs": [
    {
     "data": {
      "text/html": [
       "<style type=\"text/css\">\n",
       "</style>\n",
       "<table id=\"T_32a69\">\n",
       "  <thead>\n",
       "    <tr>\n",
       "      <th id=\"T_32a69_level0_col0\" class=\"col_heading level0 col0\" >Código</th>\n",
       "      <th id=\"T_32a69_level0_col1\" class=\"col_heading level0 col1\" >Código Numérico</th>\n",
       "      <th id=\"T_32a69_level0_col2\" class=\"col_heading level0 col2\" >Descripción</th>\n",
       "    </tr>\n",
       "  </thead>\n",
       "  <tbody>\n",
       "    <tr>\n",
       "      <td id=\"T_32a69_row0_col0\" class=\"data row0 col0\" >SB</td>\n",
       "      <td id=\"T_32a69_row0_col1\" class=\"data row0 col1\" >81</td>\n",
       "      <td id=\"T_32a69_row0_col2\" class=\"data row0 col2\" >Baleares</td>\n",
       "    </tr>\n",
       "    <tr>\n",
       "      <td id=\"T_32a69_row1_col0\" class=\"data row1 col0\" >CE</td>\n",
       "      <td id=\"T_32a69_row1_col1\" class=\"data row1 col1\" >70</td>\n",
       "      <td id=\"T_32a69_row1_col2\" class=\"data row1 col2\" >Ceuta</td>\n",
       "    </tr>\n",
       "    <tr>\n",
       "      <td id=\"T_32a69_row2_col0\" class=\"data row2 col0\" >FL</td>\n",
       "      <td id=\"T_32a69_row2_col1\" class=\"data row2 col1\" >71</td>\n",
       "      <td id=\"T_32a69_row2_col2\" class=\"data row2 col2\" >Fuerteventura-Lanzarote</td>\n",
       "    </tr>\n",
       "    <tr>\n",
       "      <td id=\"T_32a69_row3_col0\" class=\"data row3 col0\" >GC</td>\n",
       "      <td id=\"T_32a69_row3_col1\" class=\"data row3 col1\" >72</td>\n",
       "      <td id=\"T_32a69_row3_col2\" class=\"data row3 col2\" >Gran Canaria</td>\n",
       "    </tr>\n",
       "    <tr>\n",
       "      <td id=\"T_32a69_row4_col0\" class=\"data row4 col0\" >HI</td>\n",
       "      <td id=\"T_32a69_row4_col1\" class=\"data row4 col1\" >73</td>\n",
       "      <td id=\"T_32a69_row4_col2\" class=\"data row4 col2\" >Hierro</td>\n",
       "    </tr>\n",
       "    <tr>\n",
       "      <td id=\"T_32a69_row5_col0\" class=\"data row5 col0\" >IF</td>\n",
       "      <td id=\"T_32a69_row5_col1\" class=\"data row5 col1\" >74</td>\n",
       "      <td id=\"T_32a69_row5_col2\" class=\"data row5 col2\" >Ibiza-Formentera</td>\n",
       "    </tr>\n",
       "    <tr>\n",
       "      <td id=\"T_32a69_row6_col0\" class=\"data row6 col0\" >LG</td>\n",
       "      <td id=\"T_32a69_row6_col1\" class=\"data row6 col1\" >75</td>\n",
       "      <td id=\"T_32a69_row6_col2\" class=\"data row6 col2\" >La Gomera</td>\n",
       "    </tr>\n",
       "    <tr>\n",
       "      <td id=\"T_32a69_row7_col0\" class=\"data row7 col0\" >PA</td>\n",
       "      <td id=\"T_32a69_row7_col1\" class=\"data row7 col1\" >78</td>\n",
       "      <td id=\"T_32a69_row7_col2\" class=\"data row7 col2\" >La Palma</td>\n",
       "    </tr>\n",
       "    <tr>\n",
       "      <td id=\"T_32a69_row8_col0\" class=\"data row8 col0\" >MM</td>\n",
       "      <td id=\"T_32a69_row8_col1\" class=\"data row8 col1\" >77</td>\n",
       "      <td id=\"T_32a69_row8_col2\" class=\"data row8 col2\" >Mallorca-Menorca</td>\n",
       "    </tr>\n",
       "    <tr>\n",
       "      <td id=\"T_32a69_row9_col0\" class=\"data row9 col0\" >ML</td>\n",
       "      <td id=\"T_32a69_row9_col1\" class=\"data row9 col1\" >76</td>\n",
       "      <td id=\"T_32a69_row9_col2\" class=\"data row9 col2\" >Melilla</td>\n",
       "    </tr>\n",
       "    <tr>\n",
       "      <td id=\"T_32a69_row10_col0\" class=\"data row10 col0\" >PE</td>\n",
       "      <td id=\"T_32a69_row10_col1\" class=\"data row10 col1\" >80</td>\n",
       "      <td id=\"T_32a69_row10_col2\" class=\"data row10 col2\" >Península</td>\n",
       "    </tr>\n",
       "    <tr>\n",
       "      <td id=\"T_32a69_row11_col0\" class=\"data row11 col0\" >TF</td>\n",
       "      <td id=\"T_32a69_row11_col1\" class=\"data row11 col1\" >79</td>\n",
       "      <td id=\"T_32a69_row11_col2\" class=\"data row11 col2\" >Tenerife</td>\n",
       "    </tr>\n",
       "  </tbody>\n",
       "</table>\n"
      ],
      "text/plain": [
       "<pandas.io.formats.style.Styler at 0x723794c2dbb0>"
      ]
     },
     "execution_count": 4,
     "metadata": {},
     "output_type": "execute_result"
    }
   ],
   "source": [
    "# Specify the path to your Excel file\n",
    "file_path = 'Excels/133-Subsistemas.xlsx'  # Adjust the path based on where your file is\n",
    "\n",
    "# Read the Excel file\n",
    "df = pd.read_excel(file_path)\n",
    "\n",
    "# Display the dataframe without the index\n",
    "df.style.hide(axis='index')"
   ]
  },
  {
   "cell_type": "code",
   "execution_count": null,
   "id": "54752b71",
   "metadata": {},
   "outputs": [
    {
     "name": "stdout",
     "output_type": "stream",
     "text": [
      "Hay 12 subsistemas\n"
     ]
    }
   ],
   "source": [
    "print(f\"Hay {len(df)} subsistemas no peninsulares\")"
   ]
  }
 ],
 "metadata": {
  "kernelspec": {
   "display_name": "Python 3",
   "language": "python",
   "name": "python3"
  },
  "language_info": {
   "codemirror_mode": {
    "name": "ipython",
    "version": 3
   },
   "file_extension": ".py",
   "mimetype": "text/x-python",
   "name": "python",
   "nbconvert_exporter": "python",
   "pygments_lexer": "ipython3",
   "version": "3.12.1"
  }
 },
 "nbformat": 4,
 "nbformat_minor": 5
}

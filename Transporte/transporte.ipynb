{
 "cells": [
  {
   "cell_type": "markdown",
   "id": "0cb09dd9",
   "metadata": {},
   "source": [
    "# Estructura"
   ]
  },
  {
   "cell_type": "markdown",
   "id": "ac450e38",
   "metadata": {},
   "source": [
    "El sistema eléctrico español consta de sistemas eléctricos. De ellos, el subsistema eléctrico peninsular el de mayor tamaño y por el que pasa el mayor volumen de energía eléctrica: más de 200 GWh al año. En el caso de los territorios no peninsulares, debido a su pequeño tamaño y su carácter aislado, cuentan con características especiales que requieren de una operación singular. Nos referimos a los subsistemas de:"
   ]
  }
 ],
 "metadata": {
  "language_info": {
   "name": "python"
  }
 },
 "nbformat": 4,
 "nbformat_minor": 5
}

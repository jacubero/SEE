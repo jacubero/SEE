{
 "cells": [
  {
   "cell_type": "markdown",
   "id": "4acb7003",
   "metadata": {},
   "source": [
    "Procesa los ficheros pdf y genera ficheros csv con la información de las tablas que incluyen"
   ]
  },
  {
   "cell_type": "code",
   "execution_count": null,
   "id": "2287809b",
   "metadata": {
    "vscode": {
     "languageId": "plaintext"
    }
   },
   "outputs": [],
   "source": [
    "import camelot\n",
    "import pandas as pd"
   ]
  },
  {
   "cell_type": "code",
   "execution_count": null,
   "id": "444e223f",
   "metadata": {
    "vscode": {
     "languageId": "plaintext"
    }
   },
   "outputs": [],
   "source": [
    "# Path to your file\n",
    "pdf_path = \"Descargas/124-Distribuidores.pdf\"\n",
    "\n",
    "# Extract all tables from all pages\n",
    "tables = camelot.read_pdf(pdf_path, pages=\"all\", flavor=\"stream\")  \n",
    "# \"stream\" works better for tables without clear cell borders\n",
    "\n",
    "print(f\"Tables found: {len(tables)}\")"
   ]
  },
  {
   "cell_type": "code",
   "execution_count": null,
   "id": "4ded8597",
   "metadata": {
    "vscode": {
     "languageId": "plaintext"
    }
   },
   "outputs": [],
   "source": [
    "# Convert the first extracted table into a pandas DataFrame\n",
    "df = tables[0].df\n",
    "\n",
    "# Show first rows\n",
    "print(df.head())\n",
    "\n",
    "# Optionally export to CSV\n",
    "df.to_csv(\"124-Distribuidores.csv\", index=False)"
   ]
  }
 ],
 "metadata": {
  "language_info": {
   "name": "python"
  }
 },
 "nbformat": 4,
 "nbformat_minor": 5
}

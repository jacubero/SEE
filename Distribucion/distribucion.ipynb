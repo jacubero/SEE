{
 "cells": [
  {
   "cell_type": "code",
   "execution_count": 1,
   "id": "836645c9",
   "metadata": {},
   "outputs": [
    {
     "name": "stdout",
     "output_type": "stream",
     "text": [
      "Requirement already satisfied: pandas in /home/codespace/.local/lib/python3.12/site-packages (2.3.1)\n",
      "Collecting openpyxl\n",
      "  Downloading openpyxl-3.1.5-py2.py3-none-any.whl.metadata (2.5 kB)\n",
      "Requirement already satisfied: numpy>=1.26.0 in /home/codespace/.local/lib/python3.12/site-packages (from pandas) (2.3.1)\n",
      "Requirement already satisfied: python-dateutil>=2.8.2 in /home/codespace/.local/lib/python3.12/site-packages (from pandas) (2.9.0.post0)\n",
      "Requirement already satisfied: pytz>=2020.1 in /home/codespace/.local/lib/python3.12/site-packages (from pandas) (2025.2)\n",
      "Requirement already satisfied: tzdata>=2022.7 in /home/codespace/.local/lib/python3.12/site-packages (from pandas) (2025.2)\n",
      "Collecting et-xmlfile (from openpyxl)\n",
      "  Downloading et_xmlfile-2.0.0-py3-none-any.whl.metadata (2.7 kB)\n",
      "Requirement already satisfied: six>=1.5 in /home/codespace/.local/lib/python3.12/site-packages (from python-dateutil>=2.8.2->pandas) (1.17.0)\n",
      "Downloading openpyxl-3.1.5-py2.py3-none-any.whl (250 kB)\n",
      "Downloading et_xmlfile-2.0.0-py3-none-any.whl (18 kB)\n",
      "Installing collected packages: et-xmlfile, openpyxl\n",
      "\u001b[2K   \u001b[90m━━━━━━━━━━━━━━━━━━━━━━━━━━━━━━━━━━━━━━━━\u001b[0m \u001b[32m2/2\u001b[0m [openpyxl]1/2\u001b[0m [openpyxl]\n",
      "\u001b[1A\u001b[2KSuccessfully installed et-xmlfile-2.0.0 openpyxl-3.1.5\n",
      "\n",
      "\u001b[1m[\u001b[0m\u001b[34;49mnotice\u001b[0m\u001b[1;39;49m]\u001b[0m\u001b[39;49m A new release of pip is available: \u001b[0m\u001b[31;49m25.1.1\u001b[0m\u001b[39;49m -> \u001b[0m\u001b[32;49m25.2\u001b[0m\n",
      "\u001b[1m[\u001b[0m\u001b[34;49mnotice\u001b[0m\u001b[1;39;49m]\u001b[0m\u001b[39;49m To update, run: \u001b[0m\u001b[32;49mpython3 -m pip install --upgrade pip\u001b[0m\n"
     ]
    }
   ],
   "source": [
    "!pip install pandas openpyxl\n",
    "\n",
    "import pandas as pd"
   ]
  },
  {
   "cell_type": "markdown",
   "id": "9330ec68",
   "metadata": {},
   "source": [
    "# Distribuidores"
   ]
  },
  {
   "cell_type": "markdown",
   "id": "eacbc943",
   "metadata": {},
   "source": [
    "## Listado de Distribuidoras de electricidad según REE"
   ]
  },
  {
   "cell_type": "code",
   "execution_count": 3,
   "id": "07824550",
   "metadata": {},
   "outputs": [
    {
     "data": {
      "application/vnd.microsoft.datawrangler.viewer.v0+json": {
       "columns": [
        {
         "name": "index",
         "rawType": "int64",
         "type": "integer"
        },
        {
         "name": "Código",
         "rawType": "int64",
         "type": "integer"
        },
        {
         "name": "Empresa",
         "rawType": "object",
         "type": "string"
        },
        {
         "name": "Unidad",
         "rawType": "object",
         "type": "string"
        },
        {
         "name": "Fecha Alta",
         "rawType": "datetime64[ns]",
         "type": "datetime"
        },
        {
         "name": "Estado",
         "rawType": "object",
         "type": "string"
        }
       ],
       "ref": "43f40dc5-dd79-4fd3-b292-cd7896f468b0",
       "rows": [
        [
         "0",
         "172",
         "ADURIZ DISTRIBUCIÓN, S.L.",
         "R1-090",
         "2009-01-07 00:00:00",
         "VIGENTE"
        ],
        [
         "1",
         "426",
         "AFRODÍSIO PASCUAL ALONSO, S.L.",
         "R1-284",
         "2009-01-04 00:00:00",
         "VIGENTE"
        ],
        [
         "2",
         "112",
         "AGRI ENERGÍA ELÉCTRICA, S.A.",
         "R1-014",
         "2009-01-03 00:00:00",
         "VIGENTE"
        ],
        [
         "3",
         "557",
         "AGRUPACIÓN DISTRIBUIDORA DE ESCUER, S.L.",
         "R1-310",
         "2009-01-07 00:00:00",
         "VIGENTE"
        ],
        [
         "4",
         "420",
         "ALARCÓN NAVARRO EMPRESA ELÉCTRICA, S.L.",
         "R1-301",
         "2009-01-07 00:00:00",
         "VIGENTE"
        ],
        [
         "5",
         "621",
         "ALCONERA DE ELECTRICIDAD, S.L.U.",
         "R1-345",
         "2009-01-07 00:00:00",
         "VIGENTE"
        ],
        [
         "6",
         "117",
         "ALSET ELÉCTRICA, S.L.",
         "R1-191",
         "2009-01-05 00:00:00",
         "VIGENTE"
        ],
        [
         "7",
         "118",
         "ANSELMO LEÓN DISTRIBUCIÓN, S.L.",
         "R1-043",
         "2009-01-04 00:00:00",
         "VIGENTE"
        ],
        [
         "8",
         "119",
         "ANTOLINA RUIZ RUIZ, S.L.U.",
         "R1-184",
         "2009-01-07 00:00:00",
         "VIGENTE"
        ],
        [
         "9",
         "120",
         "ARAGONESA DE ACTIVIDADES ENERGÉTICAS, S.A. (AAESA)",
         "R1-179",
         "2009-01-07 00:00:00",
         "VIGENTE"
        ],
        [
         "10",
         "558",
         "ARAMAIOKO ARGINDAR BANATZILEA, S.A.",
         "R1-302",
         "2009-01-07 00:00:00",
         "VIGENTE"
        ],
        [
         "11",
         "121",
         "AURORA GINER REIG, S.L.",
         "R1-111",
         "2009-01-07 00:00:00",
         "VIGENTE"
        ],
        [
         "12",
         "33",
         "BARRAS ELÉCTRICAS GALAICO-ASTURIANAS S.A.",
         "R1-003",
         "2009-01-07 00:00:00",
         "VIGENTE"
        ],
        [
         "13",
         "122",
         "BASSOLS ENERGÍA, S.A.",
         "R1-015",
         "2009-01-03 00:00:00",
         "VIGENTE"
        ],
        [
         "14",
         "123",
         "BERRUEZA, S.A.",
         "R1-083",
         "2009-01-04 00:00:00",
         "VIGENTE"
        ],
        [
         "15",
         "124",
         "BLAZQUEZ, S.L.",
         "R1-084",
         "2009-01-03 00:00:00",
         "VIGENTE"
        ],
        [
         "16",
         "125",
         "C. MARCIAL CHACON E HIJOS, S.L.",
         "R1-180",
         "2009-01-03 00:00:00",
         "VIGENTE"
        ],
        [
         "17",
         "187",
         "CARDENER DISTRIBUCIÓ ELÈCTRICA, S.L.U.",
         "R1-037",
         "2009-01-03 00:00:00",
         "VIGENTE"
        ],
        [
         "18",
         "617",
         "CATENERIBAS, S.L.",
         "R1-336",
         "2009-01-07 00:00:00",
         "VIGENTE"
        ],
        [
         "19",
         "415",
         "CENTRAL ELÉCTRICA DE POZO LORENTE, S. L.",
         "R1-307",
         "2009-01-07 00:00:00",
         "VIGENTE"
        ],
        [
         "20",
         "127",
         "CENTRAL ELÉCTRICA INDUSTRIAL, S.L.",
         "R1-242",
         "2009-01-04 00:00:00",
         "VIGENTE"
        ],
        [
         "21",
         "126",
         "CENTRAL ELÉCTRICA MITJANS, S.L.",
         "R1-085",
         "2009-01-07 00:00:00",
         "VIGENTE"
        ],
        [
         "22",
         "128",
         "CENTRAL ELÉCTRICA SAN ANTONIO, S.L.",
         "R1-210",
         "2009-01-04 00:00:00",
         "VIGENTE"
        ],
        [
         "23",
         "129",
         "CENTRAL ELÉCTRICA SAN FRANCISCO, S.L.",
         "R1-086",
         "2009-01-06 00:00:00",
         "VIGENTE"
        ],
        [
         "24",
         "130",
         "CENTRAL ELÉCTRICA SESTELO Y CIA, S.A.",
         "R1-022",
         "2009-01-03 00:00:00",
         "VIGENTE"
        ],
        [
         "25",
         "135",
         "COELCA REDES, S.L.U.",
         "R1-150",
         "2009-01-07 00:00:00",
         "VIGENTE"
        ],
        [
         "26",
         "133",
         "COMPAÑÍA DE ELECTRICIDAD DEL CONDADO, S.A.",
         "R1-044",
         "2009-01-04 00:00:00",
         "VIGENTE"
        ],
        [
         "27",
         "131",
         "COMPAÑÍA DE ELECTRIFICACIÓN, S.L.",
         "R1-068",
         "2009-01-04 00:00:00",
         "VIGENTE"
        ],
        [
         "28",
         "132",
         "COMPAÑÍA ELÉCTRICA DE FEREZ, S.L.",
         "R1-253",
         "2009-01-06 00:00:00",
         "VIGENTE"
        ],
        [
         "29",
         "134",
         "COMPAÑÍA MELILLENSE DE GAS Y ELECTRICIDAD, S.A.",
         "R1-027",
         "2009-01-07 00:00:00",
         "VIGENTE"
        ],
        [
         "30",
         "136",
         "COOPERATIVA ELÉCTRICA ALBORENSE, S.A.",
         "R1-024",
         "2009-01-06 00:00:00",
         "VIGENTE"
        ],
        [
         "31",
         "73",
         "COOPERATIVA ELECTRICA BFCA.SAN FCO.DE ASIS, COOP.V.",
         "R1-033",
         "2009-01-07 00:00:00",
         "VIGENTE"
        ],
        [
         "32",
         "139",
         "COOPERATIVA POPULAR DE FLUIDO ELÉCTRICO DE CAMPRODON, S.C.C.L.",
         "R1-153",
         "2009-01-07 00:00:00",
         "VIGENTE"
        ],
        [
         "33",
         "149",
         "DECAIL ENERGÍA, S.L.",
         "R1-245",
         "2009-01-07 00:00:00",
         "VIGENTE"
        ],
        [
         "34",
         "140",
         "DELGICHI, S.L.",
         "R1-162",
         "2009-01-07 00:00:00",
         "VIGENTE"
        ],
        [
         "35",
         "141",
         "DIELEC GUERRERO LORENTE, S.L.",
         "R1-163",
         "2009-01-06 00:00:00",
         "VIGENTE"
        ],
        [
         "36",
         "142",
         "DIELENOR, S.L.",
         "R1-106",
         "2009-01-04 00:00:00",
         "VIGENTE"
        ],
        [
         "37",
         "143",
         "DIELESUR, S.L.",
         "R1-053",
         "2009-01-05 00:00:00",
         "VIGENTE"
        ],
        [
         "38",
         "146",
         "DISTRIBUCIÓN DE ELECTRICIDAD VALLE DE SANTA ANA, S.L.",
         "R1-164",
         "2009-01-07 00:00:00",
         "VIGENTE"
        ],
        [
         "39",
         "138",
         "DISTRIBUCIÓN ELÉCTRICA CATRALENSE, S.L.U.",
         "R1-063",
         "2009-01-07 00:00:00",
         "VIGENTE"
        ],
        [
         "40",
         "147",
         "DISTRIBUCIÓN ELÉCTRICA DE ALCOLECHA, S.L.",
         "R1-271",
         "2009-01-07 00:00:00",
         "VIGENTE"
        ],
        [
         "41",
         "215",
         "DISTRIBUCIÓN ELÉCTRICA DE CALLOSA DE SEGURA, S.L.U.",
         "R1-145",
         "2009-01-07 00:00:00",
         "VIGENTE"
        ],
        [
         "42",
         "483",
         "DISTRIBUCIÓN ELÉCTRICA DEL TAJUÑA, S.L.U.",
         "R1-317",
         "2009-01-07 00:00:00",
         "VIGENTE"
        ],
        [
         "43",
         "494",
         "DISTRIBUCIÓN ELÉCTRICA EL POZO DEL TÍO RAIMUNDO, S.L.U.",
         "R1-283",
         "2009-01-07 00:00:00",
         "VIGENTE"
        ],
        [
         "44",
         "148",
         "DISTRIBUCIÓN ELÉCTRICA LAS MERCEDES, S.L.",
         "R1-087",
         "2009-01-05 00:00:00",
         "VIGENTE"
        ],
        [
         "45",
         "145",
         "DISTRIBUCIÓN ENERGIA ELÉCTRICA DE PARCENT, S.L.",
         "R1-240",
         "2009-01-07 00:00:00",
         "VIGENTE"
        ],
        [
         "46",
         "461",
         "DISTRIBUCIONES ALNEGA, S.L.",
         "R1-288",
         "2009-01-06 00:00:00",
         "VIGENTE"
        ],
        [
         "47",
         "150",
         "DISTRIBUCIONES DE ENERGÍA ELÉCTRICA DEL NOROESTE, S.L.",
         "R1-185",
         "2009-01-07 00:00:00",
         "VIGENTE"
        ],
        [
         "48",
         "697",
         "DISTRIBUCIONES ELÉCTRICAS DE GISTAÍN S.L.",
         "R1-361",
         "2009-01-07 00:00:00",
         "VIGENTE"
        ],
        [
         "49",
         "561",
         "DISTRIBUCIONES ELÉCTRICAS DE POZUELO, S.A.",
         "R1-286",
         "2009-01-07 00:00:00",
         "VIGENTE"
        ]
       ],
       "shape": {
        "columns": 5,
        "rows": 326
       }
      },
      "text/html": [
       "<div>\n",
       "<style scoped>\n",
       "    .dataframe tbody tr th:only-of-type {\n",
       "        vertical-align: middle;\n",
       "    }\n",
       "\n",
       "    .dataframe tbody tr th {\n",
       "        vertical-align: top;\n",
       "    }\n",
       "\n",
       "    .dataframe thead th {\n",
       "        text-align: right;\n",
       "    }\n",
       "</style>\n",
       "<table border=\"1\" class=\"dataframe\">\n",
       "  <thead>\n",
       "    <tr style=\"text-align: right;\">\n",
       "      <th></th>\n",
       "      <th>Código</th>\n",
       "      <th>Empresa</th>\n",
       "      <th>Unidad</th>\n",
       "      <th>Fecha Alta</th>\n",
       "      <th>Estado</th>\n",
       "    </tr>\n",
       "  </thead>\n",
       "  <tbody>\n",
       "    <tr>\n",
       "      <th>0</th>\n",
       "      <td>172</td>\n",
       "      <td>ADURIZ DISTRIBUCIÓN, S.L.</td>\n",
       "      <td>R1-090</td>\n",
       "      <td>2009-01-07</td>\n",
       "      <td>VIGENTE</td>\n",
       "    </tr>\n",
       "    <tr>\n",
       "      <th>1</th>\n",
       "      <td>426</td>\n",
       "      <td>AFRODÍSIO PASCUAL ALONSO, S.L.</td>\n",
       "      <td>R1-284</td>\n",
       "      <td>2009-01-04</td>\n",
       "      <td>VIGENTE</td>\n",
       "    </tr>\n",
       "    <tr>\n",
       "      <th>2</th>\n",
       "      <td>112</td>\n",
       "      <td>AGRI ENERGÍA ELÉCTRICA, S.A.</td>\n",
       "      <td>R1-014</td>\n",
       "      <td>2009-01-03</td>\n",
       "      <td>VIGENTE</td>\n",
       "    </tr>\n",
       "    <tr>\n",
       "      <th>3</th>\n",
       "      <td>557</td>\n",
       "      <td>AGRUPACIÓN DISTRIBUIDORA DE ESCUER, S.L.</td>\n",
       "      <td>R1-310</td>\n",
       "      <td>2009-01-07</td>\n",
       "      <td>VIGENTE</td>\n",
       "    </tr>\n",
       "    <tr>\n",
       "      <th>4</th>\n",
       "      <td>420</td>\n",
       "      <td>ALARCÓN NAVARRO EMPRESA ELÉCTRICA, S.L.</td>\n",
       "      <td>R1-301</td>\n",
       "      <td>2009-01-07</td>\n",
       "      <td>VIGENTE</td>\n",
       "    </tr>\n",
       "    <tr>\n",
       "      <th>...</th>\n",
       "      <td>...</td>\n",
       "      <td>...</td>\n",
       "      <td>...</td>\n",
       "      <td>...</td>\n",
       "      <td>...</td>\n",
       "    </tr>\n",
       "    <tr>\n",
       "      <th>321</th>\n",
       "      <td>111</td>\n",
       "      <td>UNIÓN DE DISTRIBUIDORES DE ELECTRICIDAD, S.A. ...</td>\n",
       "      <td>R1-042</td>\n",
       "      <td>2009-01-03</td>\n",
       "      <td>VIGENTE</td>\n",
       "    </tr>\n",
       "    <tr>\n",
       "      <th>322</th>\n",
       "      <td>169</td>\n",
       "      <td>VALL DE SÓLLER ENERGÍA, S.L.U.</td>\n",
       "      <td>R1-056B</td>\n",
       "      <td>2019-01-03</td>\n",
       "      <td>VIGENTE</td>\n",
       "    </tr>\n",
       "    <tr>\n",
       "      <th>323</th>\n",
       "      <td>364</td>\n",
       "      <td>VARGAS Y COMPAÑÍA ELECTRO HARINERA SAN RAMÓN, ...</td>\n",
       "      <td>R1-203</td>\n",
       "      <td>2009-01-07</td>\n",
       "      <td>VIGENTE</td>\n",
       "    </tr>\n",
       "    <tr>\n",
       "      <th>324</th>\n",
       "      <td>27</td>\n",
       "      <td>VIESGO DISTRIBUCIÓN ELÉCTRICA, S.L.</td>\n",
       "      <td>R1-005</td>\n",
       "      <td>2009-01-07</td>\n",
       "      <td>VIGENTE</td>\n",
       "    </tr>\n",
       "    <tr>\n",
       "      <th>325</th>\n",
       "      <td>212</td>\n",
       "      <td>VINALESA DISTRIBUCIÓN DE ENERGÍA, S.L.U.</td>\n",
       "      <td>R1-155</td>\n",
       "      <td>2009-01-07</td>\n",
       "      <td>VIGENTE</td>\n",
       "    </tr>\n",
       "  </tbody>\n",
       "</table>\n",
       "<p>326 rows × 5 columns</p>\n",
       "</div>"
      ],
      "text/plain": [
       "     Código                                            Empresa   Unidad  \\\n",
       "0       172                          ADURIZ DISTRIBUCIÓN, S.L.   R1-090   \n",
       "1       426                     AFRODÍSIO PASCUAL ALONSO, S.L.   R1-284   \n",
       "2       112                       AGRI ENERGÍA ELÉCTRICA, S.A.   R1-014   \n",
       "3       557           AGRUPACIÓN DISTRIBUIDORA DE ESCUER, S.L.   R1-310   \n",
       "4       420            ALARCÓN NAVARRO EMPRESA ELÉCTRICA, S.L.   R1-301   \n",
       "..      ...                                                ...      ...   \n",
       "321     111  UNIÓN DE DISTRIBUIDORES DE ELECTRICIDAD, S.A. ...   R1-042   \n",
       "322     169                     VALL DE SÓLLER ENERGÍA, S.L.U.  R1-056B   \n",
       "323     364  VARGAS Y COMPAÑÍA ELECTRO HARINERA SAN RAMÓN, ...   R1-203   \n",
       "324      27                VIESGO DISTRIBUCIÓN ELÉCTRICA, S.L.   R1-005   \n",
       "325     212           VINALESA DISTRIBUCIÓN DE ENERGÍA, S.L.U.   R1-155   \n",
       "\n",
       "    Fecha Alta   Estado  \n",
       "0   2009-01-07  VIGENTE  \n",
       "1   2009-01-04  VIGENTE  \n",
       "2   2009-01-03  VIGENTE  \n",
       "3   2009-01-07  VIGENTE  \n",
       "4   2009-01-07  VIGENTE  \n",
       "..         ...      ...  \n",
       "321 2009-01-03  VIGENTE  \n",
       "322 2019-01-03  VIGENTE  \n",
       "323 2009-01-07  VIGENTE  \n",
       "324 2009-01-07  VIGENTE  \n",
       "325 2009-01-07  VIGENTE  \n",
       "\n",
       "[326 rows x 5 columns]"
      ]
     },
     "execution_count": 3,
     "metadata": {},
     "output_type": "execute_result"
    }
   ],
   "source": [
    "# https://www.esios.ree.es/es/descargas\n",
    "file_path = 'Excels/124-Distribuidores.xlsx'  \n",
    "\n",
    "distribuidores_ree_df = pd.read_excel(file_path)\n",
    "\n",
    "distribuidores_ree_df"
   ]
  },
  {
   "cell_type": "markdown",
   "id": "269d9bd7",
   "metadata": {},
   "source": [
    "## Listado de Distribuidoras de electricidad según CNMC"
   ]
  },
  {
   "cell_type": "code",
   "execution_count": 12,
   "id": "cca0c2f0",
   "metadata": {},
   "outputs": [
    {
     "data": {
      "application/vnd.microsoft.datawrangler.viewer.v0+json": {
       "columns": [
        {
         "name": "index",
         "rawType": "int64",
         "type": "integer"
        },
        {
         "name": "NIF empresa",
         "rawType": "object",
         "type": "string"
        },
        {
         "name": "Numero",
         "rawType": "object",
         "type": "string"
        },
        {
         "name": "Nombre empresa",
         "rawType": "object",
         "type": "string"
        },
        {
         "name": "Teléfono gratuito incidencias",
         "rawType": "object",
         "type": "string"
        },
        {
         "name": "Portal de medidas",
         "rawType": "object",
         "type": "unknown"
        }
       ],
       "ref": "e4e54f47-da6e-4cb0-ad8a-3c6555f0cff4",
       "rows": [
        [
         "0",
         "B22215487",
         "R1-285",
         "ENERGIAS DE BENASQUE S.L",
         "900 102 303",
         "https://portal.asemeservicios.com"
        ],
        [
         "1",
         "B43986918",
         "R1-360",
         "ELECTRICA MUNICIPAL DE SANTA COLOMA DE QUERALT, SL",
         "900 102 377",
         "https://portal.asemeservicios.com"
        ],
        [
         "2",
         "B63695167",
         "R1-365",
         "ELECTRA REDENERGIA SL",
         "900 373 576",
         "http://gestio.electraredenergia.com"
        ],
        [
         "3",
         "B29749199",
         "R1-196",
         "ELECTRICA SERRANIA DE RONDA S.L",
         "900 10 30 56",
         "https://portal.asemeservicios.com"
        ],
        [
         "4",
         "A22004675",
         "R1-251",
         "SERVICIOS URBANOS DE CERLER S.A.",
         "900 102 387",
         "https://portal.asemeservicios.com"
        ],
        [
         "5",
         "B32274680",
         "R1-081",
         "SAN MIGUEL 2000, DISTRIBUCIÓN ELÉCTRICA, S.L.U",
         "900 100 202",
         "https://portal.asemeservicios.com"
        ],
        [
         "6",
         "A51004166",
         "R1-030",
         "EMPRESA DE ALUMBRADO ELÉCTRICO DE CEUTA DISTRIBUCIÓN, SAU",
         "900 850 840",
         "https://zonaprivada.edistribucion.com/areaprivada"
        ],
        [
         "7",
         "B36000917",
         "R1-068",
         "COMPAÑÍA DE ELECTRIFICACION S.L",
         "900 102 196",
         "http://www.concentradorsecundario.com/PVPC"
        ],
        [
         "8",
         "B15555824",
         "R1-275",
         "ELÉCTRICA DE VALDRIZ, S L",
         "900 10 26 15",
         "http://www.valdriz.es/clientes/pvpc"
        ],
        [
         "9",
         "B04299459",
         "R1-276",
         "IGNALUZ JIMÉNEZ DE TORRES, S.L",
         "900 373 661",
         "https://ignaluzjimenezdetorres.oficinavirtual.sercide.com"
        ],
        [
         "10",
         "B25445693",
         "R1-224",
         "DISTRIBUIDORA ELECTRICA MONTOLIU SL",
         "900 103 601",
         "https://portal.asemeservicios.com"
        ],
        [
         "11",
         "B25483967",
         "R1-351",
         "ELECTRICA SUDANELL SL",
         "900 103 648",
         "https://portal.asemeservicios.com"
        ],
        [
         "12",
         "B22025282",
         "R1-125",
         "ELECTRICA DE ERISTE SL",
         "900 373 375",
         "http://www.concentradorsecundario.com/PVPC"
        ],
        [
         "13",
         "B14966469",
         "R1-025",
         "INPECUARIAS POZOBLANCO, S.L.",
         "900 373 207",
         "https://inpecuariaspozoblanco.oficinavirtual.sercide.com"
        ],
        [
         "14",
         "B14496004",
         "R1-247",
         "INPECUARIAS TORRECAMPO, S.L.",
         "900 373 207",
         "https://inpecuariastorrecampo.oficinavirtual.sercide.com"
        ],
        [
         "15",
         "B36120673",
         "R1-080",
         "HIDROELECTRICA DEL ARNEGO, S.L",
         "800 808 139",
         "http://www.hdelarnego.com/clientes/pvpc"
        ],
        [
         "16",
         "B15207103",
         "R1-242",
         "CENTRAL ELECTRICA INDUSTRIAL, S.L",
         "900 834 409",
         "http://www.centralei.es/clientes/pvpc"
        ],
        [
         "17",
         "B57308538",
         "R1-056",
         "VALL DE SOLLER ENERGIA SLU",
         "900 373 067",
         "https://www.valldesollerenergia.es/"
        ],
        [
         "18",
         "B25616970",
         "R1-341",
         "TALARN DISTRIBUCIÓ MUNICIPAL ELÉCTRICA,SL",
         "900 102 806",
         "https://portal.asemeservicios.com"
        ],
        [
         "19",
         "B22216725",
         "R1-281",
         "ELECTRO SALLENT DE GÁLLEGO, S.L.",
         "900 264 572",
         "https://electrosallentdegallego.oficinavirtual.sercide.com"
        ],
        [
         "20",
         "B22216733",
         "R1-289",
         "ELECTRO ESCARRILLA, S.L",
         "900 103 589",
         "https://electroescarrilla.oficinavirtual.sercide.com"
        ],
        [
         "21",
         "B22217350",
         "R1-310",
         "AGRUPACIÓN DISTRIBUIDORA DE ESCUER, S.L.",
         "900 933 490",
         "https://escuer.oficinavirtual.sercide.com"
        ],
        [
         "22",
         "B62136205",
         "R1-205",
         "ICASA DISTRIBUCION ENERGIA SL",
         "900 10 17 08",
         "https://portal.asemeservicios.com"
        ],
        [
         "23",
         "B25428905",
         "R1-314",
         "EMPRESA MUNICIPAL DE DISTRIBUCIÓ D'ENERGIA ELÈCTRICA DE PONTS, SL",
         "900 834 464",
         null
        ],
        [
         "24",
         "B14421390",
         "R1-053",
         "DIELESUR, SL",
         "900 818 903",
         "https://dielesur.oficinavirtual.sercide.com"
        ],
        [
         "25",
         "B40268443",
         "R1-051",
         "JUAN DE FRUTOS GARCIA DISTRIBUCIÓN ELÉCTRICA, S.L.U",
         "900 373 109",
         "https://jdfg.oficinavirtual.sercide.com"
        ],
        [
         "26",
         "B17454091",
         "R1-085",
         "CENTRAL ELECTRICA MITJANS,SL",
         "900 373 523",
         "http://80.35.34.4/CCH/mitjans/"
        ],
        [
         "27",
         "B04296000",
         "R1-163",
         "DIELEC GUERRERO LORENTE SL",
         "900 818 896",
         "https://dielecguerrerolorente.oficinavirtual.sercide.com"
        ],
        [
         "28",
         "B14466601",
         "R1-109",
         "INPECUARIAS VILLARALTO S.L",
         "900 373 207",
         "https://inpecuariasvillaralto.oficinavirtual.sercide.com"
        ],
        [
         "29",
         "B98788003",
         "R1-151",
         "DISTRIBUIDORA ELÉCTRICA ALBATERENSE NUESTRA SEÑORA DE LA LUZ, S.L.U.",
         "900 907 692",
         "https://portal.asemeservicios.com"
        ],
        [
         "30",
         "A11301645",
         "R1-034",
         "ELECTRICIDAD DE PUERTO REAL, S.A. (EPRESA)",
         "900 810 806",
         "https://portal.asemeservicios.com"
        ],
        [
         "31",
         "A11355526",
         "R1-021",
         "SUMINISTRADORA ELECTRICA DE CADIZ, S.A",
         "900 373 075",
         "https://portal.asemeservicios.com"
        ],
        [
         "32",
         "A17448358",
         "R1-014",
         "AGRI-ENERGIA ELECTRICA, SA",
         "900 727 272",
         "https://www.agrienergiaelectrica.com"
        ],
        [
         "33",
         "A22194856",
         "R1-055",
         "ELÉCTRICA DE BARBASTRO, S.A.",
         "900 828 361",
         "https://portal.asemeservicios.com"
        ],
        [
         "34",
         "B25460494",
         "R1-273",
         "EMPRESA MUNICIPAL ENERGIA ELECTRICA TORRES DE SEGRE SL",
         "900 834 985",
         "https://portal.asemeservicios.com"
        ],
        [
         "35",
         "B17450305",
         "R1-052",
         "LERSA ELECTRICITAT, S.L",
         "900 373 278",
         "https://portal.asemeservicios.com"
        ],
        [
         "36",
         "A40029399",
         "R1-143",
         "SERVILIANO GARCÍA S.A",
         "900 373 442",
         "https://portal.asemeservicios.com"
        ],
        [
         "37",
         "B24319311",
         "R1-029",
         "DISTRIBUIDORA ELÉCTRICA DEL SIL, S.L",
         "900 701 026",
         "https://portal.asemeservicios.com"
        ],
        [
         "38",
         "B82958919",
         "R1-048",
         "LA PROHIDA DISTRIBUCIÓN ELÉCTRICA, S.L",
         "900 373 396",
         "https://portal.asemeservicios.com"
        ],
        [
         "39",
         "F22003412",
         "R1-059",
         "GRUPO DE ELECTRIFICACIÓN RURAL DE BINÉFAR Y COMARCA SOC. COOP",
         "900 102 901",
         "https://portal.asemeservicios.com"
        ],
        [
         "40",
         "A02373090",
         "R1-323",
         "FUERZAS ELÉCTRICAS DE BOGARRA S.A.  -FEBOSA-",
         "900 373 759",
         "https://febosa.oficinavirtual.sercide.com"
        ],
        [
         "41",
         "A33591611",
         "R1-008",
         "HIDROCANTÁBRICO DISTRIBUCIÓN ELÉCTRICA S.A.U",
         "900 907 001",
         "https://misconsumos.eredesdistribucion.es"
        ],
        [
         "42",
         "A17451733",
         "R1-015",
         "BASSOLS ENERGÍA, S.A",
         "900 649 164",
         "https://www.bassolsdistribucio.com/"
        ],
        [
         "43",
         "B64744642",
         "R1-363",
         "ELECTRA DEL LLOBREGAT ENERGÍA, S.L",
         "900 373 176",
         "https://misconsumos.eredesdistribucion.es/#/"
        ],
        [
         "44",
         "B24291833",
         "R1-239",
         "SALTOS DEL CABRERA,S L",
         "900 373 821",
         "https://portal.asemeservicios.com"
        ],
        [
         "45",
         "B24373367",
         "R1-187",
         "HIDROELECTRICA DEL CABRERA,S L",
         "900 373 679",
         "https://portal.asemeservicios.com"
        ],
        [
         "46",
         "B17011404",
         "R1-231",
         "ELECTRICA CUROS, SL",
         "900 649 164",
         "http://www.curosdistribucio.com"
        ],
        [
         "47",
         "B24014151",
         "R1-149",
         "HIJOS DE FELIPE GARCIA ALVAREZ SL",
         "900 373 078",
         "https://portal.asemeservicios.com"
        ],
        [
         "48",
         "B25799172",
         "R1-020",
         "PEUSA DISTRIBUCIO SLU",
         "900 373 057",
         "https://portal.asemeservicios.com"
        ],
        [
         "49",
         "B54862602",
         "R1-033",
         "DISTRIBUCIÓN ELÉCTRICA CREVILLENT S.L.U.",
         "900 373 187 (no operativo); 965 400 862",
         "http://www.enercoopdistribucion.es"
        ]
       ],
       "shape": {
        "columns": 5,
        "rows": 333
       }
      },
      "text/html": [
       "<div>\n",
       "<style scoped>\n",
       "    .dataframe tbody tr th:only-of-type {\n",
       "        vertical-align: middle;\n",
       "    }\n",
       "\n",
       "    .dataframe tbody tr th {\n",
       "        vertical-align: top;\n",
       "    }\n",
       "\n",
       "    .dataframe thead th {\n",
       "        text-align: right;\n",
       "    }\n",
       "</style>\n",
       "<table border=\"1\" class=\"dataframe\">\n",
       "  <thead>\n",
       "    <tr style=\"text-align: right;\">\n",
       "      <th></th>\n",
       "      <th>NIF empresa</th>\n",
       "      <th>Numero</th>\n",
       "      <th>Nombre empresa</th>\n",
       "      <th>Teléfono gratuito incidencias</th>\n",
       "      <th>Portal de medidas</th>\n",
       "    </tr>\n",
       "  </thead>\n",
       "  <tbody>\n",
       "    <tr>\n",
       "      <th>0</th>\n",
       "      <td>B22215487</td>\n",
       "      <td>R1-285</td>\n",
       "      <td>ENERGIAS DE BENASQUE S.L</td>\n",
       "      <td>900 102 303</td>\n",
       "      <td>https://portal.asemeservicios.com</td>\n",
       "    </tr>\n",
       "    <tr>\n",
       "      <th>1</th>\n",
       "      <td>B43986918</td>\n",
       "      <td>R1-360</td>\n",
       "      <td>ELECTRICA MUNICIPAL DE SANTA COLOMA DE QUERALT...</td>\n",
       "      <td>900 102 377</td>\n",
       "      <td>https://portal.asemeservicios.com</td>\n",
       "    </tr>\n",
       "    <tr>\n",
       "      <th>2</th>\n",
       "      <td>B63695167</td>\n",
       "      <td>R1-365</td>\n",
       "      <td>ELECTRA REDENERGIA SL</td>\n",
       "      <td>900 373 576</td>\n",
       "      <td>http://gestio.electraredenergia.com</td>\n",
       "    </tr>\n",
       "    <tr>\n",
       "      <th>3</th>\n",
       "      <td>B29749199</td>\n",
       "      <td>R1-196</td>\n",
       "      <td>ELECTRICA SERRANIA DE RONDA S.L</td>\n",
       "      <td>900 10 30 56</td>\n",
       "      <td>https://portal.asemeservicios.com</td>\n",
       "    </tr>\n",
       "    <tr>\n",
       "      <th>4</th>\n",
       "      <td>A22004675</td>\n",
       "      <td>R1-251</td>\n",
       "      <td>SERVICIOS URBANOS DE CERLER S.A.</td>\n",
       "      <td>900 102 387</td>\n",
       "      <td>https://portal.asemeservicios.com</td>\n",
       "    </tr>\n",
       "    <tr>\n",
       "      <th>...</th>\n",
       "      <td>...</td>\n",
       "      <td>...</td>\n",
       "      <td>...</td>\n",
       "      <td>...</td>\n",
       "      <td>...</td>\n",
       "    </tr>\n",
       "    <tr>\n",
       "      <th>328</th>\n",
       "      <td>B54863956</td>\n",
       "      <td>R1-063</td>\n",
       "      <td>DISTRIBUCION ELECTRICA CATRALENSE, SLU</td>\n",
       "      <td>900 101 489</td>\n",
       "      <td>https://portal.asemeservicios.com</td>\n",
       "    </tr>\n",
       "    <tr>\n",
       "      <th>329</th>\n",
       "      <td>B98212053</td>\n",
       "      <td>R1-128</td>\n",
       "      <td>ELECTRICA DE CHERA DISTRIBUIDORA SL</td>\n",
       "      <td>900 373 319</td>\n",
       "      <td>http://consumos.grupcev.es</td>\n",
       "    </tr>\n",
       "    <tr>\n",
       "      <th>330</th>\n",
       "      <td>B91516351</td>\n",
       "      <td>R1-046</td>\n",
       "      <td>DISTRIBUIDORA ELECTRICA TENTUDIA SL</td>\n",
       "      <td>900 373 891</td>\n",
       "      <td>https://detentudia.oficinavirtual.sercide.com</td>\n",
       "    </tr>\n",
       "    <tr>\n",
       "      <th>331</th>\n",
       "      <td>B91516344</td>\n",
       "      <td>R1-199</td>\n",
       "      <td>DISTRIBUIDORA ELECTRICA MONESTERIO SL</td>\n",
       "      <td>900 373 874</td>\n",
       "      <td>https://demonesterio.oficinavirtual.sercide.com</td>\n",
       "    </tr>\n",
       "    <tr>\n",
       "      <th>332</th>\n",
       "      <td>B87689733</td>\n",
       "      <td>R1-133</td>\n",
       "      <td>HIDROELECTRICA EL CARMEN REDES SL</td>\n",
       "      <td>900 373 508</td>\n",
       "      <td>https://hidroelcarmen.oficinavirtual.sercide.com</td>\n",
       "    </tr>\n",
       "  </tbody>\n",
       "</table>\n",
       "<p>333 rows × 5 columns</p>\n",
       "</div>"
      ],
      "text/plain": [
       "    NIF empresa  Numero                                     Nombre empresa  \\\n",
       "0     B22215487  R1-285                           ENERGIAS DE BENASQUE S.L   \n",
       "1     B43986918  R1-360  ELECTRICA MUNICIPAL DE SANTA COLOMA DE QUERALT...   \n",
       "2     B63695167  R1-365                              ELECTRA REDENERGIA SL   \n",
       "3     B29749199  R1-196                    ELECTRICA SERRANIA DE RONDA S.L   \n",
       "4     A22004675  R1-251                   SERVICIOS URBANOS DE CERLER S.A.   \n",
       "..          ...     ...                                                ...   \n",
       "328   B54863956  R1-063             DISTRIBUCION ELECTRICA CATRALENSE, SLU   \n",
       "329   B98212053  R1-128                ELECTRICA DE CHERA DISTRIBUIDORA SL   \n",
       "330   B91516351  R1-046                DISTRIBUIDORA ELECTRICA TENTUDIA SL   \n",
       "331   B91516344  R1-199              DISTRIBUIDORA ELECTRICA MONESTERIO SL   \n",
       "332   B87689733  R1-133                  HIDROELECTRICA EL CARMEN REDES SL   \n",
       "\n",
       "    Teléfono gratuito incidencias  \\\n",
       "0                     900 102 303   \n",
       "1                     900 102 377   \n",
       "2                     900 373 576   \n",
       "3                    900 10 30 56   \n",
       "4                     900 102 387   \n",
       "..                            ...   \n",
       "328                   900 101 489   \n",
       "329                   900 373 319   \n",
       "330                   900 373 891   \n",
       "331                   900 373 874   \n",
       "332                   900 373 508   \n",
       "\n",
       "                                    Portal de medidas  \n",
       "0                   https://portal.asemeservicios.com  \n",
       "1                   https://portal.asemeservicios.com  \n",
       "2                 http://gestio.electraredenergia.com  \n",
       "3                   https://portal.asemeservicios.com  \n",
       "4                   https://portal.asemeservicios.com  \n",
       "..                                                ...  \n",
       "328                 https://portal.asemeservicios.com  \n",
       "329                        http://consumos.grupcev.es  \n",
       "330     https://detentudia.oficinavirtual.sercide.com  \n",
       "331   https://demonesterio.oficinavirtual.sercide.com  \n",
       "332  https://hidroelcarmen.oficinavirtual.sercide.com  \n",
       "\n",
       "[333 rows x 5 columns]"
      ]
     },
     "execution_count": 12,
     "metadata": {},
     "output_type": "execute_result"
    }
   ],
   "source": [
    "# https://sede.cnmc.gob.es/listado/censo/1\n",
    "file_path = 'Excels/distribuidoras.xlsx'  \n",
    "\n",
    "distribuidores_cnmc_df = pd.read_excel(file_path)\n",
    "\n",
    "distribuidores_cnmc_df"
   ]
  },
  {
   "cell_type": "markdown",
   "id": "bfcad0d9",
   "metadata": {},
   "source": [
    "Comparar ambas listas"
   ]
  },
  {
   "cell_type": "code",
   "execution_count": null,
   "id": "a9067dc3",
   "metadata": {},
   "outputs": [
    {
     "name": "stdout",
     "output_type": "stream",
     "text": [
      "Número total de valores en el listado de REE: 326\n",
      "Número total de valores en el listado de la CNMC: 333\n",
      "\n",
      "Número de valores comunes: 323\n",
      "\n",
      "Valores que estan en en el listado de la CNMC, pero no en el de REE: ['R1-031', 'R1-056', 'R1-103', 'R1-120', 'R1-192', 'R1-216', 'R1-265', 'R1-330', 'R1-339', 'R1-364']\n",
      "\n",
      "Valores que estan en en el listado de REE, pero no en el de la CNMC: ['R1-056B', 'R1-299B', 'R1-364B']\n"
     ]
    },
    {
     "data": {
      "text/html": [
       "<style type=\"text/css\">\n",
       "</style>\n",
       "<table id=\"T_e35c0\">\n",
       "  <thead>\n",
       "    <tr>\n",
       "      <th id=\"T_e35c0_level0_col0\" class=\"col_heading level0 col0\" >Código</th>\n",
       "      <th id=\"T_e35c0_level0_col1\" class=\"col_heading level0 col1\" >Empresa</th>\n",
       "      <th id=\"T_e35c0_level0_col2\" class=\"col_heading level0 col2\" >Unidad</th>\n",
       "      <th id=\"T_e35c0_level0_col3\" class=\"col_heading level0 col3\" >Fecha Alta</th>\n",
       "      <th id=\"T_e35c0_level0_col4\" class=\"col_heading level0 col4\" >Estado</th>\n",
       "    </tr>\n",
       "  </thead>\n",
       "  <tbody>\n",
       "    <tr>\n",
       "      <td id=\"T_e35c0_row0_col0\" class=\"data row0 col0\" >31</td>\n",
       "      <td id=\"T_e35c0_row0_col1\" class=\"data row0 col1\" >EDISTRIBUCIÓN REDES DIGITALES, S.L.</td>\n",
       "      <td id=\"T_e35c0_row0_col2\" class=\"data row0 col2\" >R1-299B</td>\n",
       "      <td id=\"T_e35c0_row0_col3\" class=\"data row0 col3\" >2019-01-03 00:00:00</td>\n",
       "      <td id=\"T_e35c0_row0_col4\" class=\"data row0 col4\" >VIGENTE</td>\n",
       "    </tr>\n",
       "    <tr>\n",
       "      <td id=\"T_e35c0_row1_col0\" class=\"data row1 col0\" >705</td>\n",
       "      <td id=\"T_e35c0_row1_col1\" class=\"data row1 col1\" >SAMPOL DISTRIBUCIÓN ELÉCTRICA, S.L.</td>\n",
       "      <td id=\"T_e35c0_row1_col2\" class=\"data row1 col2\" >R1-364B</td>\n",
       "      <td id=\"T_e35c0_row1_col3\" class=\"data row1 col3\" >2019-01-03 00:00:00</td>\n",
       "      <td id=\"T_e35c0_row1_col4\" class=\"data row1 col4\" >VIGENTE</td>\n",
       "    </tr>\n",
       "    <tr>\n",
       "      <td id=\"T_e35c0_row2_col0\" class=\"data row2 col0\" >169</td>\n",
       "      <td id=\"T_e35c0_row2_col1\" class=\"data row2 col1\" >VALL DE SÓLLER ENERGÍA, S.L.U.</td>\n",
       "      <td id=\"T_e35c0_row2_col2\" class=\"data row2 col2\" >R1-056B</td>\n",
       "      <td id=\"T_e35c0_row2_col3\" class=\"data row2 col3\" >2019-01-03 00:00:00</td>\n",
       "      <td id=\"T_e35c0_row2_col4\" class=\"data row2 col4\" >VIGENTE</td>\n",
       "    </tr>\n",
       "  </tbody>\n",
       "</table>\n"
      ],
      "text/plain": [
       "<pandas.io.formats.style.Styler at 0x75f1b42d2630>"
      ]
     },
     "execution_count": 17,
     "metadata": {},
     "output_type": "execute_result"
    }
   ],
   "source": [
    "unidad = distribuidores_ree_df['Unidad'].dropna().str.strip().unique()  \n",
    "no_orden = distribuidores_cnmc_df['Numero'].dropna().str.strip().unique()  \n",
    "\n",
    "# Convert to sets for efficient comparison\n",
    "set_no_orden = set(no_orden)\n",
    "set_unidad = set(unidad)\n",
    "\n",
    "common_values = set_no_orden.intersection(set_unidad)  # Same values in both\n",
    "missing_in_unidad = set_no_orden.difference(set_unidad)  # In Nº de orden but not in Unidad\n",
    "missing_in_no_orden = set_unidad.difference(set_no_orden)  # In Unidad but not in Nº de orden\n",
    "\n",
    "print(\"Número total de valores en el listado de REE:\", len(set_unidad))\n",
    "print(\"Número total de valores en el listado de la CNMC:\", len(set_no_orden))\n",
    "print(\"\\nNúmero de valores comunes:\", len(sorted(common_values)))"
   ]
  },
  {
   "cell_type": "code",
   "execution_count": 18,
   "id": "fa4d5860",
   "metadata": {},
   "outputs": [
    {
     "name": "stdout",
     "output_type": "stream",
     "text": [
      "\n",
      "Valores que estan en en el listado de la CNMC, pero no en el de REE: ['R1-031', 'R1-056', 'R1-103', 'R1-120', 'R1-192', 'R1-216', 'R1-265', 'R1-330', 'R1-339', 'R1-364']\n"
     ]
    },
    {
     "data": {
      "text/html": [
       "<style type=\"text/css\">\n",
       "</style>\n",
       "<table id=\"T_5d107\">\n",
       "  <thead>\n",
       "    <tr>\n",
       "      <th id=\"T_5d107_level0_col0\" class=\"col_heading level0 col0\" >NIF empresa</th>\n",
       "      <th id=\"T_5d107_level0_col1\" class=\"col_heading level0 col1\" >Numero</th>\n",
       "      <th id=\"T_5d107_level0_col2\" class=\"col_heading level0 col2\" >Nombre empresa</th>\n",
       "      <th id=\"T_5d107_level0_col3\" class=\"col_heading level0 col3\" >Teléfono gratuito incidencias</th>\n",
       "      <th id=\"T_5d107_level0_col4\" class=\"col_heading level0 col4\" >Portal de medidas</th>\n",
       "    </tr>\n",
       "  </thead>\n",
       "  <tbody>\n",
       "    <tr>\n",
       "      <td id=\"T_5d107_row0_col0\" class=\"data row0 col0\" >B57308538</td>\n",
       "      <td id=\"T_5d107_row0_col1\" class=\"data row0 col1\" >R1-056</td>\n",
       "      <td id=\"T_5d107_row0_col2\" class=\"data row0 col2\" >VALL DE SOLLER ENERGIA SLU</td>\n",
       "      <td id=\"T_5d107_row0_col3\" class=\"data row0 col3\" >900 373 067</td>\n",
       "      <td id=\"T_5d107_row0_col4\" class=\"data row0 col4\" >https://www.valldesollerenergia.es/</td>\n",
       "    </tr>\n",
       "    <tr>\n",
       "      <td id=\"T_5d107_row1_col0\" class=\"data row1 col0\" >B07751878</td>\n",
       "      <td id=\"T_5d107_row1_col1\" class=\"data row1 col1\" >R1-364</td>\n",
       "      <td id=\"T_5d107_row1_col2\" class=\"data row1 col2\" >SAMPOL DISTRIBUCIÓN ELÉCTRICA, S.L</td>\n",
       "      <td id=\"T_5d107_row1_col3\" class=\"data row1 col3\" >900 373 617</td>\n",
       "      <td id=\"T_5d107_row1_col4\" class=\"data row1 col4\" >https://portal.asemeservicios.com</td>\n",
       "    </tr>\n",
       "    <tr>\n",
       "      <td id=\"T_5d107_row2_col0\" class=\"data row2 col0\" >A47408851</td>\n",
       "      <td id=\"T_5d107_row2_col1\" class=\"data row2 col1\" >R1-192</td>\n",
       "      <td id=\"T_5d107_row2_col2\" class=\"data row2 col2\" >ELECTRO DISTRIBUIDORA CASTELLANO-LEONESA S.A. (EXTINGUIDA)</td>\n",
       "      <td id=\"T_5d107_row2_col3\" class=\"data row2 col3\" >900 103 163</td>\n",
       "      <td id=\"T_5d107_row2_col4\" class=\"data row2 col4\" >http://www.edicalsa.es/consumidor</td>\n",
       "    </tr>\n",
       "    <tr>\n",
       "      <td id=\"T_5d107_row3_col0\" class=\"data row3 col0\" >B06278469</td>\n",
       "      <td id=\"T_5d107_row3_col1\" class=\"data row3 col1\" >R1-031</td>\n",
       "      <td id=\"T_5d107_row3_col2\" class=\"data row3 col2\" >DISTRIBUIDORA DE ENERGÍA ELÉCTRICA ENRIQUE GARCÍA SERRANO S.L. (EXTINGUIDA)</td>\n",
       "      <td id=\"T_5d107_row3_col3\" class=\"data row3 col3\" >900 10 31 67</td>\n",
       "      <td id=\"T_5d107_row3_col4\" class=\"data row3 col4\" >http://www.deegs.es/consumidor</td>\n",
       "    </tr>\n",
       "    <tr>\n",
       "      <td id=\"T_5d107_row4_col0\" class=\"data row4 col0\" >B37420999</td>\n",
       "      <td id=\"T_5d107_row4_col1\" class=\"data row4 col1\" >R1-216</td>\n",
       "      <td id=\"T_5d107_row4_col2\" class=\"data row4 col2\" >DISTRIBUIDORA ELÉCTRICA NAVASFRÍAS S.L. (EXTINGUIDA)</td>\n",
       "      <td id=\"T_5d107_row4_col3\" class=\"data row4 col3\" >900 103 155</td>\n",
       "      <td id=\"T_5d107_row4_col4\" class=\"data row4 col4\" >http://www.electricanavasfrias.es/consumidor</td>\n",
       "    </tr>\n",
       "    <tr>\n",
       "      <td id=\"T_5d107_row5_col0\" class=\"data row5 col0\" >B02375335</td>\n",
       "      <td id=\"T_5d107_row5_col1\" class=\"data row5 col1\" >R1-330</td>\n",
       "      <td id=\"T_5d107_row5_col2\" class=\"data row5 col2\" >EMPRESA ELÉCTRICA DEL CABRIEL S.L.(EXTINGUIDA).</td>\n",
       "      <td id=\"T_5d107_row5_col3\" class=\"data row5 col3\" >900 103 105</td>\n",
       "      <td id=\"T_5d107_row5_col4\" class=\"data row5 col4\" >https://www.elcabriel.es/consumidor</td>\n",
       "    </tr>\n",
       "    <tr>\n",
       "      <td id=\"T_5d107_row6_col0\" class=\"data row6 col0\" >B34173757</td>\n",
       "      <td id=\"T_5d107_row6_col1\" class=\"data row6 col1\" >R1-265</td>\n",
       "      <td id=\"T_5d107_row6_col2\" class=\"data row6 col2\" >HEREDEROS DE MARÍA ALONSO CALZADA VENTA DE BAÑOS S.L. (EXTINGUIDA)</td>\n",
       "      <td id=\"T_5d107_row6_col3\" class=\"data row6 col3\" >900 501 052</td>\n",
       "      <td id=\"T_5d107_row6_col4\" class=\"data row6 col4\" >http://www.hmac.es/consumidor</td>\n",
       "    </tr>\n",
       "    <tr>\n",
       "      <td id=\"T_5d107_row7_col0\" class=\"data row7 col0\" >B24299851</td>\n",
       "      <td id=\"T_5d107_row7_col1\" class=\"data row7 col1\" >R1-103</td>\n",
       "      <td id=\"T_5d107_row7_col2\" class=\"data row7 col2\" >SAN CIPRIANO DE RUEDA DISTRIBUCIÓN S.L. (EXTINGUIDA)</td>\n",
       "      <td id=\"T_5d107_row7_col3\" class=\"data row7 col3\" >900 103 163</td>\n",
       "      <td id=\"T_5d107_row7_col4\" class=\"data row7 col4\" >http://www.hsancipriano.es/consumidor</td>\n",
       "    </tr>\n",
       "    <tr>\n",
       "      <td id=\"T_5d107_row8_col0\" class=\"data row8 col0\" >A48010433</td>\n",
       "      <td id=\"T_5d107_row8_col1\" class=\"data row8 col1\" >R1-120</td>\n",
       "      <td id=\"T_5d107_row8_col2\" class=\"data row8 col2\" >SOCIEDAD DISTRIBUIDORA ELÉCTRICA DE ELORRIO S.A. (EXTINGUIDA)</td>\n",
       "      <td id=\"T_5d107_row8_col3\" class=\"data row8 col3\" >900 103 207</td>\n",
       "      <td id=\"T_5d107_row8_col4\" class=\"data row8 col4\" >http://www.sdelorrio.es/consumidor</td>\n",
       "    </tr>\n",
       "    <tr>\n",
       "      <td id=\"T_5d107_row9_col0\" class=\"data row9 col0\" >B31721301</td>\n",
       "      <td id=\"T_5d107_row9_col1\" class=\"data row9 col1\" >R1-339</td>\n",
       "      <td id=\"T_5d107_row9_col2\" class=\"data row9 col2\" >ELEKTRA URDAZUBI SL</td>\n",
       "      <td id=\"T_5d107_row9_col3\" class=\"data row9 col3\" >900 818 894</td>\n",
       "      <td id=\"T_5d107_row9_col4\" class=\"data row9 col4\" >nan</td>\n",
       "    </tr>\n",
       "  </tbody>\n",
       "</table>\n"
      ],
      "text/plain": [
       "<pandas.io.formats.style.Styler at 0x75f1b67edd00>"
      ]
     },
     "execution_count": 18,
     "metadata": {},
     "output_type": "execute_result"
    }
   ],
   "source": [
    "print(\"\\nValores que estan en en el listado de la CNMC, pero no en el de REE:\", sorted(missing_in_unidad))\n",
    "\n",
    "df_falta_en_REE = distribuidores_cnmc_df[distribuidores_cnmc_df['Numero'].isin(missing_in_unidad)]\n",
    "df_falta_en_REE.style.hide(axis='index')"
   ]
  },
  {
   "cell_type": "code",
   "execution_count": 19,
   "id": "418c3fec",
   "metadata": {},
   "outputs": [
    {
     "name": "stdout",
     "output_type": "stream",
     "text": [
      "\n",
      "Valores que estan en en el listado de REE, pero no en el de la CNMC: ['R1-056B', 'R1-299B', 'R1-364B']\n"
     ]
    },
    {
     "data": {
      "text/html": [
       "<style type=\"text/css\">\n",
       "</style>\n",
       "<table id=\"T_9b598\">\n",
       "  <thead>\n",
       "    <tr>\n",
       "      <th id=\"T_9b598_level0_col0\" class=\"col_heading level0 col0\" >Código</th>\n",
       "      <th id=\"T_9b598_level0_col1\" class=\"col_heading level0 col1\" >Empresa</th>\n",
       "      <th id=\"T_9b598_level0_col2\" class=\"col_heading level0 col2\" >Unidad</th>\n",
       "      <th id=\"T_9b598_level0_col3\" class=\"col_heading level0 col3\" >Fecha Alta</th>\n",
       "      <th id=\"T_9b598_level0_col4\" class=\"col_heading level0 col4\" >Estado</th>\n",
       "    </tr>\n",
       "  </thead>\n",
       "  <tbody>\n",
       "    <tr>\n",
       "      <td id=\"T_9b598_row0_col0\" class=\"data row0 col0\" >31</td>\n",
       "      <td id=\"T_9b598_row0_col1\" class=\"data row0 col1\" >EDISTRIBUCIÓN REDES DIGITALES, S.L.</td>\n",
       "      <td id=\"T_9b598_row0_col2\" class=\"data row0 col2\" >R1-299B</td>\n",
       "      <td id=\"T_9b598_row0_col3\" class=\"data row0 col3\" >2019-01-03 00:00:00</td>\n",
       "      <td id=\"T_9b598_row0_col4\" class=\"data row0 col4\" >VIGENTE</td>\n",
       "    </tr>\n",
       "    <tr>\n",
       "      <td id=\"T_9b598_row1_col0\" class=\"data row1 col0\" >705</td>\n",
       "      <td id=\"T_9b598_row1_col1\" class=\"data row1 col1\" >SAMPOL DISTRIBUCIÓN ELÉCTRICA, S.L.</td>\n",
       "      <td id=\"T_9b598_row1_col2\" class=\"data row1 col2\" >R1-364B</td>\n",
       "      <td id=\"T_9b598_row1_col3\" class=\"data row1 col3\" >2019-01-03 00:00:00</td>\n",
       "      <td id=\"T_9b598_row1_col4\" class=\"data row1 col4\" >VIGENTE</td>\n",
       "    </tr>\n",
       "    <tr>\n",
       "      <td id=\"T_9b598_row2_col0\" class=\"data row2 col0\" >169</td>\n",
       "      <td id=\"T_9b598_row2_col1\" class=\"data row2 col1\" >VALL DE SÓLLER ENERGÍA, S.L.U.</td>\n",
       "      <td id=\"T_9b598_row2_col2\" class=\"data row2 col2\" >R1-056B</td>\n",
       "      <td id=\"T_9b598_row2_col3\" class=\"data row2 col3\" >2019-01-03 00:00:00</td>\n",
       "      <td id=\"T_9b598_row2_col4\" class=\"data row2 col4\" >VIGENTE</td>\n",
       "    </tr>\n",
       "  </tbody>\n",
       "</table>\n"
      ],
      "text/plain": [
       "<pandas.io.formats.style.Styler at 0x75f1b68edb80>"
      ]
     },
     "execution_count": 19,
     "metadata": {},
     "output_type": "execute_result"
    }
   ],
   "source": [
    "print(\"\\nValores que estan en en el listado de REE, pero no en el de la CNMC:\", sorted(missing_in_no_orden))\n",
    "\n",
    "df_falta_en_CNMC = distribuidores_ree_df[distribuidores_ree_df['Unidad'].isin(missing_in_no_orden)]\n",
    "df_falta_en_CNMC.style.hide(axis='index')\n"
   ]
  },
  {
   "cell_type": "markdown",
   "id": "a14ebc2b",
   "metadata": {},
   "source": [
    "## Distribucion geográfica"
   ]
  },
  {
   "cell_type": "markdown",
   "id": "30009137",
   "metadata": {},
   "source": [
    "# I-DE Redes Eléctricas Inteligentes, S.A.U. (Grupo Iberdrola)"
   ]
  },
  {
   "cell_type": "markdown",
   "id": "5390a407",
   "metadata": {},
   "source": [
    "R1-001"
   ]
  },
  {
   "cell_type": "code",
   "execution_count": null,
   "id": "8faa5193",
   "metadata": {},
   "outputs": [],
   "source": [
    "# https://www.i-de.es/conexion-red-electrica/produccion-energia/mapa-capacidad-acceso\n",
    "file_path = 'Excels/iDE_capacidad.xlsx'\n",
    "\n",
    "# Read the Excel file\n",
    "iDE_capacidad_df = pd.read_excel(file_path, sheet_name='Table 1', header=[0]) \n",
    "\n",
    "columns = [\n",
    "    'Subestacion_iDE',\n",
    "    'Municipio',\n",
    "    'Provincia',\n",
    "    'X',\n",
    "    'Y',\n",
    "    'Subestacion_REE'\n",
    "]\n",
    "\n",
    "# Get unique rows based on 'Identificador de la Subestación'\n",
    "iDE_df = iDE_capacidad_df[columns].drop_duplicates(subset='Subestacion_iDE')\n",
    "\n",
    "# Display the resulting DataFrame\n",
    "iDE_df.style.hide(axis='index')"
   ]
  },
  {
   "cell_type": "markdown",
   "id": "afb49b0d",
   "metadata": {},
   "source": [
    "X and Y are the geographical coordinates of the subestation in the ETRS89 coordinate system expressed in meters. I want to convert them into WGS84 (EPSG:4326) coordinate system"
   ]
  },
  {
   "cell_type": "code",
   "execution_count": null,
   "id": "22e1e365",
   "metadata": {},
   "outputs": [],
   "source": [
    "import math\n",
    "\n",
    "K0 = 0.9996\n",
    "\n",
    "E = 0.00669438\n",
    "E2 = E * E\n",
    "E3 = E2 * E\n",
    "E_P2 = E / (1.0 - E)\n",
    "\n",
    "SQRT_E = math.sqrt(1 - E)\n",
    "_E = (1 - SQRT_E) / (1 + SQRT_E)\n",
    "_E2 = _E * _E\n",
    "_E3 = _E * _E2\n",
    "_E4 = _E * _E3\n",
    "_E5 = _E * _E4\n",
    "\n",
    "M1 = (1 - E / 4 - 3 * E2 / 64 - 5 * E3 / 256)\n",
    "M2 = (3 * E / 8 + 3 * E2 / 32 + 45 * E3 / 1024)\n",
    "M3 = (15 * E2 / 256 + 45 * E3 / 1024)\n",
    "M4 = (35 * E3 / 3072)\n",
    "\n",
    "P2 = (3. / 2 * _E2 - 27. / 32 * _E4)\n",
    "P3 = (21. / 16 * _E3 - 55. / 32 * _E5)\n",
    "P4 = (151. / 96 * _E4)\n",
    "P5 = (417. / 128 * _E5)\n",
    "\n",
    "R = 6378137\n",
    "\n",
    "def to_latlon(easting, northing, zone_number, northern=True):\n",
    "    x = easting - 500000\n",
    "    y = northing\n",
    "    \n",
    "    if not northern:\n",
    "        y -= 10000000\n",
    "\n",
    "    m = y / K0\n",
    "    mu = m / (R * M1)\n",
    "\n",
    "    p_rad = (mu + P2 * math.sin(2 * mu) + P3 * math.sin(4 * mu) + P4 * math.sin(6 * mu) + P5 * math.sin(8 * mu))\n",
    "\n",
    "    p_sin = math.sin(p_rad)\n",
    "    p_sin2 = p_sin * p_sin\n",
    "\n",
    "    p_cos = math.cos(p_rad)\n",
    "\n",
    "    p_tan = p_sin / p_cos\n",
    "    p_tan2 = p_tan * p_tan\n",
    "    p_tan4 = p_tan2 * p_tan2\n",
    "\n",
    "    ep_sin = 1 - E * p_sin2\n",
    "    ep_sin_sqrt = math.sqrt(ep_sin)\n",
    "\n",
    "    n = R / ep_sin_sqrt\n",
    "    r = (1 - E) / ep_sin\n",
    "\n",
    "    c = _E * p_cos**2\n",
    "    c2 = c * c\n",
    "\n",
    "    d = x / (n * K0)\n",
    "    d2 = d * d\n",
    "    d3 = d2 * d\n",
    "    d4 = d3 * d\n",
    "    d5 = d4 * d\n",
    "    d6 = d5 * d\n",
    "\n",
    "    latitude = (p_rad - (p_tan / r) * (d2 / 2 - d4 / 24 * (5 + 3 * p_tan2 + 10 * c - 4 * c2 - 9 * E_P2)) + d6 / 720 * (61 + 90 * p_tan2 + 298 * c + 45 * p_tan4 - 252 * E_P2 - 3 * c2))\n",
    "\n",
    "    longitude = (d - d3 / 6 * (1 + 2 * p_tan2 + c) + d5 / 120 * (5 - 2 * c + 28 * p_tan2 - 3 * c2 + 8 * E_P2 + 24 * p_tan4)) / p_cos\n",
    "\n",
    "    longitude = longitude + (zone_number - 30.5) * math.pi / 30.0  # convert to radians properly\n",
    "\n",
    "    return (math.degrees(latitude), math.degrees(longitude))\n",
    "\n",
    "# Example usage for zone 30, northern hemisphere\n",
    "lat, lon = to_latlon(X, Y, 30)"
   ]
  },
  {
   "cell_type": "code",
   "execution_count": null,
   "id": "4b637b0d",
   "metadata": {},
   "outputs": [],
   "source": [
    "\n",
    "iDE_df.to_excel('Excels/iDE.xlsx', index=False)"
   ]
  },
  {
   "cell_type": "markdown",
   "id": "0c818e3c",
   "metadata": {},
   "source": [
    "# UFD DISTRIBUCIÓN ELECTRICIDAD, S.A. (Grupo Naturgy)"
   ]
  },
  {
   "cell_type": "markdown",
   "id": "43e53169",
   "metadata": {},
   "source": [
    "R1-002"
   ]
  },
  {
   "cell_type": "code",
   "execution_count": null,
   "id": "90e618bc",
   "metadata": {},
   "outputs": [],
   "source": [
    "# https://www.ufd.es/capacidad-de-acceso-de-generacion/\n",
    "file_path = 'Excels/UFD_capacidad.xlsx'\n",
    "\n",
    "# Read the Excel file\n",
    "UFD_capacidad_df = pd.read_excel(file_path, sheet_name='Escenario Propuesta', header=[0]) \n",
    "\n",
    "columns = [\n",
    "    'Subestacion_UFD',\n",
    "    'Provincia',\n",
    "    'X',\n",
    "    'Y',\n",
    "    'Subestacion_REE'\n",
    "    ]\n",
    "\n",
    "# Get unique rows based on 'Identificador de la Subestación'\n",
    "UFD_df = UFD_capacidad_df[columns].drop_duplicates(subset='Subestacion_UFD')\n",
    "\n",
    "# Display the resulting DataFrame\n",
    "UFD_df.style.hide(axis='index')\n",
    "\n",
    "# Optionally, save to a new Excel file\n",
    "UFD_df.to_excel('Excels/UFD.xlsx', index=False)\n"
   ]
  },
  {
   "cell_type": "markdown",
   "id": "c6a4bb01",
   "metadata": {},
   "source": [
    "# EDISTRIBUCIÓN REDES DIGITALES, S.L. (Grupo Enel)"
   ]
  },
  {
   "cell_type": "markdown",
   "id": "846231d0",
   "metadata": {},
   "source": [
    "R1-299, R1-299B"
   ]
  },
  {
   "cell_type": "code",
   "execution_count": null,
   "id": "7671d923",
   "metadata": {},
   "outputs": [],
   "source": [
    "# https://www.edistribucion.com/es/red-electrica/Nodos_capacidad_acceso.html\n",
    "file_path = 'Excels/EDRD_capacidad.xlsx'\n",
    "\n",
    "# Read the Excel file\n",
    "EDRD_capacidad_df = pd.read_excel(file_path, sheet_name='Table 1', header=[0]) \n",
    "\n",
    "columns = [\n",
    "    'Comunidad',\n",
    "    'Provincia',\n",
    "    'Municipio',\n",
    "    'Subestacion_EDRD',\n",
    "    'Latitud',\n",
    "    'Longitud',\n",
    "    'Subestacion_REE'\n",
    "    ]\n",
    "\n",
    "# Get unique rows based on 'Identificador de la Subestación'\n",
    "EDRD_df = EDRD_capacidad_df[columns].drop_duplicates(subset='Subestacion_EDRD')\n",
    "\n",
    "# Display the resulting DataFrame\n",
    "EDRD_df.style.hide(axis='index')\n",
    "\n",
    "# Optionally, save to a new Excel file\n",
    "EDRD_df.to_excel('Excels/EDRD.xlsx', index=False)\n"
   ]
  },
  {
   "cell_type": "markdown",
   "id": "3bff17fb",
   "metadata": {},
   "source": [
    "# E-REDES Distribución Eléctrica (Grupo E-REDES)"
   ]
  },
  {
   "cell_type": "markdown",
   "id": "2557ff81",
   "metadata": {},
   "source": [
    "R1-005 (VIESGO DISTRIBUCIÓN ELÉCTRICA, S.L.), R1-363 (ELECTRA DEL LLOBREGAT ENERGIA, S.L.)"
   ]
  },
  {
   "cell_type": "code",
   "execution_count": null,
   "id": "9364fca1",
   "metadata": {},
   "outputs": [],
   "source": [
    "# https://www.eredesdistribucion.es/mapa-interactivo-de-la-red\n",
    "file_path = 'Excels/EREDES_capacidad.xlsx'\n",
    "\n",
    "# Read the Excel file\n",
    "EREDES_capacidad_df = pd.read_excel(file_path, sheet_name='Table 1', header=[0]) \n",
    "\n",
    "columns = [\n",
    "    'Provincia',\n",
    "    'X',\n",
    "    'Y',\n",
    "    'Subestacion_REE',\n",
    "    'Subestacion_EREDES'\n",
    "    ]\n",
    "\n",
    "# Get unique rows based on 'Identificador de la Subestación'\n",
    "EREDES_df = EREDES_capacidad_df[columns].drop_duplicates(subset='Subestacion_EREDES')\n",
    "\n",
    "# Display the resulting DataFrame\n",
    "EREDES_df.style.hide(axis='index')\n",
    "\n",
    "# Optionally, save to a new Excel file\n",
    "EREDES_df.to_excel('Excels/EREDES.xlsx', index=False)\n"
   ]
  }
 ],
 "metadata": {
  "kernelspec": {
   "display_name": "Python 3",
   "language": "python",
   "name": "python3"
  },
  "language_info": {
   "codemirror_mode": {
    "name": "ipython",
    "version": 3
   },
   "file_extension": ".py",
   "mimetype": "text/x-python",
   "name": "python",
   "nbconvert_exporter": "python",
   "pygments_lexer": "ipython3",
   "version": "3.12.1"
  }
 },
 "nbformat": 4,
 "nbformat_minor": 5
}

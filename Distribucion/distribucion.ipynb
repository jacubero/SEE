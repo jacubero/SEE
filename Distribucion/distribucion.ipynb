{
 "cells": [
  {
   "cell_type": "code",
   "execution_count": 1,
   "id": "836645c9",
   "metadata": {},
   "outputs": [
    {
     "name": "stdout",
     "output_type": "stream",
     "text": [
      "Requirement already satisfied: pandas in /home/codespace/.local/lib/python3.12/site-packages (2.3.1)\n",
      "Requirement already satisfied: openpyxl in /usr/local/python/3.12.1/lib/python3.12/site-packages (3.1.5)\n",
      "Requirement already satisfied: numpy>=1.26.0 in /home/codespace/.local/lib/python3.12/site-packages (from pandas) (2.3.1)\n",
      "Requirement already satisfied: python-dateutil>=2.8.2 in /home/codespace/.local/lib/python3.12/site-packages (from pandas) (2.9.0.post0)\n",
      "Requirement already satisfied: pytz>=2020.1 in /home/codespace/.local/lib/python3.12/site-packages (from pandas) (2025.2)\n",
      "Requirement already satisfied: tzdata>=2022.7 in /home/codespace/.local/lib/python3.12/site-packages (from pandas) (2025.2)\n",
      "Requirement already satisfied: et-xmlfile in /usr/local/python/3.12.1/lib/python3.12/site-packages (from openpyxl) (2.0.0)\n",
      "Requirement already satisfied: six>=1.5 in /home/codespace/.local/lib/python3.12/site-packages (from python-dateutil>=2.8.2->pandas) (1.17.0)\n",
      "\n",
      "\u001b[1m[\u001b[0m\u001b[34;49mnotice\u001b[0m\u001b[1;39;49m]\u001b[0m\u001b[39;49m A new release of pip is available: \u001b[0m\u001b[31;49m25.1.1\u001b[0m\u001b[39;49m -> \u001b[0m\u001b[32;49m25.2\u001b[0m\n",
      "\u001b[1m[\u001b[0m\u001b[34;49mnotice\u001b[0m\u001b[1;39;49m]\u001b[0m\u001b[39;49m To update, run: \u001b[0m\u001b[32;49mpython3 -m pip install --upgrade pip\u001b[0m\n"
     ]
    }
   ],
   "source": [
    "!pip install pandas openpyxl\n",
    "\n",
    "import pandas as pd"
   ]
  },
  {
   "cell_type": "markdown",
   "id": "9330ec68",
   "metadata": {},
   "source": [
    "# Distribuidores"
   ]
  },
  {
   "cell_type": "markdown",
   "id": "eacbc943",
   "metadata": {},
   "source": [
    "## Listado"
   ]
  },
  {
   "cell_type": "code",
   "execution_count": 2,
   "id": "07824550",
   "metadata": {},
   "outputs": [
    {
     "data": {
      "text/html": [
       "<div>\n",
       "<style scoped>\n",
       "    .dataframe tbody tr th:only-of-type {\n",
       "        vertical-align: middle;\n",
       "    }\n",
       "\n",
       "    .dataframe tbody tr th {\n",
       "        vertical-align: top;\n",
       "    }\n",
       "\n",
       "    .dataframe thead th {\n",
       "        text-align: right;\n",
       "    }\n",
       "</style>\n",
       "<table border=\"1\" class=\"dataframe\">\n",
       "  <thead>\n",
       "    <tr style=\"text-align: right;\">\n",
       "      <th></th>\n",
       "      <th>Código</th>\n",
       "      <th>Empresa</th>\n",
       "      <th>Unidad</th>\n",
       "      <th>Fecha Alta</th>\n",
       "      <th>Estado</th>\n",
       "    </tr>\n",
       "  </thead>\n",
       "  <tbody>\n",
       "    <tr>\n",
       "      <th>0</th>\n",
       "      <td>172</td>\n",
       "      <td>ADURIZ DISTRIBUCIÓN, S.L.</td>\n",
       "      <td>R1-090</td>\n",
       "      <td>2009-01-07</td>\n",
       "      <td>VIGENTE</td>\n",
       "    </tr>\n",
       "    <tr>\n",
       "      <th>1</th>\n",
       "      <td>426</td>\n",
       "      <td>AFRODÍSIO PASCUAL ALONSO, S.L.</td>\n",
       "      <td>R1-284</td>\n",
       "      <td>2009-01-04</td>\n",
       "      <td>VIGENTE</td>\n",
       "    </tr>\n",
       "    <tr>\n",
       "      <th>2</th>\n",
       "      <td>112</td>\n",
       "      <td>AGRI ENERGÍA ELÉCTRICA, S.A.</td>\n",
       "      <td>R1-014</td>\n",
       "      <td>2009-01-03</td>\n",
       "      <td>VIGENTE</td>\n",
       "    </tr>\n",
       "    <tr>\n",
       "      <th>3</th>\n",
       "      <td>557</td>\n",
       "      <td>AGRUPACIÓN DISTRIBUIDORA DE ESCUER, S.L.</td>\n",
       "      <td>R1-310</td>\n",
       "      <td>2009-01-07</td>\n",
       "      <td>VIGENTE</td>\n",
       "    </tr>\n",
       "    <tr>\n",
       "      <th>4</th>\n",
       "      <td>420</td>\n",
       "      <td>ALARCÓN NAVARRO EMPRESA ELÉCTRICA, S.L.</td>\n",
       "      <td>R1-301</td>\n",
       "      <td>2009-01-07</td>\n",
       "      <td>VIGENTE</td>\n",
       "    </tr>\n",
       "    <tr>\n",
       "      <th>...</th>\n",
       "      <td>...</td>\n",
       "      <td>...</td>\n",
       "      <td>...</td>\n",
       "      <td>...</td>\n",
       "      <td>...</td>\n",
       "    </tr>\n",
       "    <tr>\n",
       "      <th>321</th>\n",
       "      <td>111</td>\n",
       "      <td>UNIÓN DE DISTRIBUIDORES DE ELECTRICIDAD, S.A. ...</td>\n",
       "      <td>R1-042</td>\n",
       "      <td>2009-01-03</td>\n",
       "      <td>VIGENTE</td>\n",
       "    </tr>\n",
       "    <tr>\n",
       "      <th>322</th>\n",
       "      <td>169</td>\n",
       "      <td>VALL DE SÓLLER ENERGÍA, S.L.U.</td>\n",
       "      <td>R1-056B</td>\n",
       "      <td>2019-01-03</td>\n",
       "      <td>VIGENTE</td>\n",
       "    </tr>\n",
       "    <tr>\n",
       "      <th>323</th>\n",
       "      <td>364</td>\n",
       "      <td>VARGAS Y COMPAÑÍA ELECTRO HARINERA SAN RAMÓN, ...</td>\n",
       "      <td>R1-203</td>\n",
       "      <td>2009-01-07</td>\n",
       "      <td>VIGENTE</td>\n",
       "    </tr>\n",
       "    <tr>\n",
       "      <th>324</th>\n",
       "      <td>27</td>\n",
       "      <td>VIESGO DISTRIBUCIÓN ELÉCTRICA, S.L.</td>\n",
       "      <td>R1-005</td>\n",
       "      <td>2009-01-07</td>\n",
       "      <td>VIGENTE</td>\n",
       "    </tr>\n",
       "    <tr>\n",
       "      <th>325</th>\n",
       "      <td>212</td>\n",
       "      <td>VINALESA DISTRIBUCIÓN DE ENERGÍA, S.L.U.</td>\n",
       "      <td>R1-155</td>\n",
       "      <td>2009-01-07</td>\n",
       "      <td>VIGENTE</td>\n",
       "    </tr>\n",
       "  </tbody>\n",
       "</table>\n",
       "<p>326 rows × 5 columns</p>\n",
       "</div>"
      ],
      "text/plain": [
       "     Código                                            Empresa   Unidad  \\\n",
       "0       172                          ADURIZ DISTRIBUCIÓN, S.L.   R1-090   \n",
       "1       426                     AFRODÍSIO PASCUAL ALONSO, S.L.   R1-284   \n",
       "2       112                       AGRI ENERGÍA ELÉCTRICA, S.A.   R1-014   \n",
       "3       557           AGRUPACIÓN DISTRIBUIDORA DE ESCUER, S.L.   R1-310   \n",
       "4       420            ALARCÓN NAVARRO EMPRESA ELÉCTRICA, S.L.   R1-301   \n",
       "..      ...                                                ...      ...   \n",
       "321     111  UNIÓN DE DISTRIBUIDORES DE ELECTRICIDAD, S.A. ...   R1-042   \n",
       "322     169                     VALL DE SÓLLER ENERGÍA, S.L.U.  R1-056B   \n",
       "323     364  VARGAS Y COMPAÑÍA ELECTRO HARINERA SAN RAMÓN, ...   R1-203   \n",
       "324      27                VIESGO DISTRIBUCIÓN ELÉCTRICA, S.L.   R1-005   \n",
       "325     212           VINALESA DISTRIBUCIÓN DE ENERGÍA, S.L.U.   R1-155   \n",
       "\n",
       "    Fecha Alta   Estado  \n",
       "0   2009-01-07  VIGENTE  \n",
       "1   2009-01-04  VIGENTE  \n",
       "2   2009-01-03  VIGENTE  \n",
       "3   2009-01-07  VIGENTE  \n",
       "4   2009-01-07  VIGENTE  \n",
       "..         ...      ...  \n",
       "321 2009-01-03  VIGENTE  \n",
       "322 2019-01-03  VIGENTE  \n",
       "323 2009-01-07  VIGENTE  \n",
       "324 2009-01-07  VIGENTE  \n",
       "325 2009-01-07  VIGENTE  \n",
       "\n",
       "[326 rows x 5 columns]"
      ]
     },
     "execution_count": 2,
     "metadata": {},
     "output_type": "execute_result"
    }
   ],
   "source": [
    "# https://www.esios.ree.es/es/descargas\n",
    "# Specify the path to your Excel file\n",
    "file_path = 'Excels/124-Distribuidores.xlsx'  # Adjust the path based on where your file is\n",
    "\n",
    "# Read the Excel file\n",
    "distribuidores_df = pd.read_excel(file_path)\n",
    "\n",
    "distribuidores_df"
   ]
  },
  {
   "cell_type": "markdown",
   "id": "a14ebc2b",
   "metadata": {},
   "source": [
    "## Distribucion geográfica"
   ]
  },
  {
   "cell_type": "markdown",
   "id": "30009137",
   "metadata": {},
   "source": [
    "# I-DE Redes Eléctricas Inteligentes, S.A.U. (Grupo Iberdrola)"
   ]
  },
  {
   "cell_type": "markdown",
   "id": "5390a407",
   "metadata": {},
   "source": [
    "R1-001\n",
    "# https://www.i-de.es/conexion-red-electrica/produccion-energia/mapa-capacidad-acceso"
   ]
  },
  {
   "cell_type": "code",
   "execution_count": null,
   "id": "8faa5193",
   "metadata": {},
   "outputs": [],
   "source": []
  }
 ],
 "metadata": {
  "kernelspec": {
   "display_name": "Python 3",
   "language": "python",
   "name": "python3"
  },
  "language_info": {
   "codemirror_mode": {
    "name": "ipython",
    "version": 3
   },
   "file_extension": ".py",
   "mimetype": "text/x-python",
   "name": "python",
   "nbconvert_exporter": "python",
   "pygments_lexer": "ipython3",
   "version": "3.12.1"
  }
 },
 "nbformat": 4,
 "nbformat_minor": 5
}

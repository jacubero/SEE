{
 "cells": [
  {
   "cell_type": "code",
   "execution_count": 1,
   "id": "836645c9",
   "metadata": {},
   "outputs": [
    {
     "name": "stdout",
     "output_type": "stream",
     "text": [
      "Requirement already satisfied: pandas in /home/codespace/.local/lib/python3.12/site-packages (2.3.1)\n",
      "Collecting openpyxl\n",
      "  Downloading openpyxl-3.1.5-py2.py3-none-any.whl.metadata (2.5 kB)\n",
      "Requirement already satisfied: numpy>=1.26.0 in /home/codespace/.local/lib/python3.12/site-packages (from pandas) (2.3.1)\n",
      "Requirement already satisfied: python-dateutil>=2.8.2 in /home/codespace/.local/lib/python3.12/site-packages (from pandas) (2.9.0.post0)\n",
      "Requirement already satisfied: pytz>=2020.1 in /home/codespace/.local/lib/python3.12/site-packages (from pandas) (2025.2)\n",
      "Requirement already satisfied: tzdata>=2022.7 in /home/codespace/.local/lib/python3.12/site-packages (from pandas) (2025.2)\n",
      "Collecting et-xmlfile (from openpyxl)\n",
      "  Downloading et_xmlfile-2.0.0-py3-none-any.whl.metadata (2.7 kB)\n",
      "Requirement already satisfied: six>=1.5 in /home/codespace/.local/lib/python3.12/site-packages (from python-dateutil>=2.8.2->pandas) (1.17.0)\n",
      "Downloading openpyxl-3.1.5-py2.py3-none-any.whl (250 kB)\n",
      "Downloading et_xmlfile-2.0.0-py3-none-any.whl (18 kB)\n",
      "Installing collected packages: et-xmlfile, openpyxl\n",
      "\u001b[2K   \u001b[90m━━━━━━━━━━━━━━━━━━━━━━━━━━━━━━━━━━━━━━━━\u001b[0m \u001b[32m2/2\u001b[0m [openpyxl]1/2\u001b[0m [openpyxl]\n",
      "\u001b[1A\u001b[2KSuccessfully installed et-xmlfile-2.0.0 openpyxl-3.1.5\n",
      "\n",
      "\u001b[1m[\u001b[0m\u001b[34;49mnotice\u001b[0m\u001b[1;39;49m]\u001b[0m\u001b[39;49m A new release of pip is available: \u001b[0m\u001b[31;49m25.1.1\u001b[0m\u001b[39;49m -> \u001b[0m\u001b[32;49m25.2\u001b[0m\n",
      "\u001b[1m[\u001b[0m\u001b[34;49mnotice\u001b[0m\u001b[1;39;49m]\u001b[0m\u001b[39;49m To update, run: \u001b[0m\u001b[32;49mpython3 -m pip install --upgrade pip\u001b[0m\n"
     ]
    }
   ],
   "source": [
    "!pip install pandas openpyxl\n",
    "\n",
    "import pandas as pd"
   ]
  },
  {
   "cell_type": "markdown",
   "id": "9330ec68",
   "metadata": {},
   "source": [
    "# Distribuidores"
   ]
  },
  {
   "cell_type": "markdown",
   "id": "eacbc943",
   "metadata": {},
   "source": [
    "## Listado"
   ]
  },
  {
   "cell_type": "code",
   "execution_count": 2,
   "id": "07824550",
   "metadata": {},
   "outputs": [
    {
     "data": {
      "application/vnd.microsoft.datawrangler.viewer.v0+json": {
       "columns": [
        {
         "name": "index",
         "rawType": "int64",
         "type": "integer"
        },
        {
         "name": "Código",
         "rawType": "int64",
         "type": "integer"
        },
        {
         "name": "Empresa",
         "rawType": "object",
         "type": "string"
        },
        {
         "name": "Unidad",
         "rawType": "object",
         "type": "string"
        },
        {
         "name": "Fecha Alta",
         "rawType": "datetime64[ns]",
         "type": "datetime"
        },
        {
         "name": "Estado",
         "rawType": "object",
         "type": "string"
        }
       ],
       "ref": "137b7d81-d56b-48b8-9332-89e7bd929d14",
       "rows": [
        [
         "0",
         "172",
         "ADURIZ DISTRIBUCIÓN, S.L.",
         "R1-090",
         "2009-01-07 00:00:00",
         "VIGENTE"
        ],
        [
         "1",
         "426",
         "AFRODÍSIO PASCUAL ALONSO, S.L.",
         "R1-284",
         "2009-01-04 00:00:00",
         "VIGENTE"
        ],
        [
         "2",
         "112",
         "AGRI ENERGÍA ELÉCTRICA, S.A.",
         "R1-014",
         "2009-01-03 00:00:00",
         "VIGENTE"
        ],
        [
         "3",
         "557",
         "AGRUPACIÓN DISTRIBUIDORA DE ESCUER, S.L.",
         "R1-310",
         "2009-01-07 00:00:00",
         "VIGENTE"
        ],
        [
         "4",
         "420",
         "ALARCÓN NAVARRO EMPRESA ELÉCTRICA, S.L.",
         "R1-301",
         "2009-01-07 00:00:00",
         "VIGENTE"
        ],
        [
         "5",
         "621",
         "ALCONERA DE ELECTRICIDAD, S.L.U.",
         "R1-345",
         "2009-01-07 00:00:00",
         "VIGENTE"
        ],
        [
         "6",
         "117",
         "ALSET ELÉCTRICA, S.L.",
         "R1-191",
         "2009-01-05 00:00:00",
         "VIGENTE"
        ],
        [
         "7",
         "118",
         "ANSELMO LEÓN DISTRIBUCIÓN, S.L.",
         "R1-043",
         "2009-01-04 00:00:00",
         "VIGENTE"
        ],
        [
         "8",
         "119",
         "ANTOLINA RUIZ RUIZ, S.L.U.",
         "R1-184",
         "2009-01-07 00:00:00",
         "VIGENTE"
        ],
        [
         "9",
         "120",
         "ARAGONESA DE ACTIVIDADES ENERGÉTICAS, S.A. (AAESA)",
         "R1-179",
         "2009-01-07 00:00:00",
         "VIGENTE"
        ],
        [
         "10",
         "558",
         "ARAMAIOKO ARGINDAR BANATZILEA, S.A.",
         "R1-302",
         "2009-01-07 00:00:00",
         "VIGENTE"
        ],
        [
         "11",
         "121",
         "AURORA GINER REIG, S.L.",
         "R1-111",
         "2009-01-07 00:00:00",
         "VIGENTE"
        ],
        [
         "12",
         "33",
         "BARRAS ELÉCTRICAS GALAICO-ASTURIANAS S.A.",
         "R1-003",
         "2009-01-07 00:00:00",
         "VIGENTE"
        ],
        [
         "13",
         "122",
         "BASSOLS ENERGÍA, S.A.",
         "R1-015",
         "2009-01-03 00:00:00",
         "VIGENTE"
        ],
        [
         "14",
         "123",
         "BERRUEZA, S.A.",
         "R1-083",
         "2009-01-04 00:00:00",
         "VIGENTE"
        ],
        [
         "15",
         "124",
         "BLAZQUEZ, S.L.",
         "R1-084",
         "2009-01-03 00:00:00",
         "VIGENTE"
        ],
        [
         "16",
         "125",
         "C. MARCIAL CHACON E HIJOS, S.L.",
         "R1-180",
         "2009-01-03 00:00:00",
         "VIGENTE"
        ],
        [
         "17",
         "187",
         "CARDENER DISTRIBUCIÓ ELÈCTRICA, S.L.U.",
         "R1-037",
         "2009-01-03 00:00:00",
         "VIGENTE"
        ],
        [
         "18",
         "617",
         "CATENERIBAS, S.L.",
         "R1-336",
         "2009-01-07 00:00:00",
         "VIGENTE"
        ],
        [
         "19",
         "415",
         "CENTRAL ELÉCTRICA DE POZO LORENTE, S. L.",
         "R1-307",
         "2009-01-07 00:00:00",
         "VIGENTE"
        ],
        [
         "20",
         "127",
         "CENTRAL ELÉCTRICA INDUSTRIAL, S.L.",
         "R1-242",
         "2009-01-04 00:00:00",
         "VIGENTE"
        ],
        [
         "21",
         "126",
         "CENTRAL ELÉCTRICA MITJANS, S.L.",
         "R1-085",
         "2009-01-07 00:00:00",
         "VIGENTE"
        ],
        [
         "22",
         "128",
         "CENTRAL ELÉCTRICA SAN ANTONIO, S.L.",
         "R1-210",
         "2009-01-04 00:00:00",
         "VIGENTE"
        ],
        [
         "23",
         "129",
         "CENTRAL ELÉCTRICA SAN FRANCISCO, S.L.",
         "R1-086",
         "2009-01-06 00:00:00",
         "VIGENTE"
        ],
        [
         "24",
         "130",
         "CENTRAL ELÉCTRICA SESTELO Y CIA, S.A.",
         "R1-022",
         "2009-01-03 00:00:00",
         "VIGENTE"
        ],
        [
         "25",
         "135",
         "COELCA REDES, S.L.U.",
         "R1-150",
         "2009-01-07 00:00:00",
         "VIGENTE"
        ],
        [
         "26",
         "133",
         "COMPAÑÍA DE ELECTRICIDAD DEL CONDADO, S.A.",
         "R1-044",
         "2009-01-04 00:00:00",
         "VIGENTE"
        ],
        [
         "27",
         "131",
         "COMPAÑÍA DE ELECTRIFICACIÓN, S.L.",
         "R1-068",
         "2009-01-04 00:00:00",
         "VIGENTE"
        ],
        [
         "28",
         "132",
         "COMPAÑÍA ELÉCTRICA DE FEREZ, S.L.",
         "R1-253",
         "2009-01-06 00:00:00",
         "VIGENTE"
        ],
        [
         "29",
         "134",
         "COMPAÑÍA MELILLENSE DE GAS Y ELECTRICIDAD, S.A.",
         "R1-027",
         "2009-01-07 00:00:00",
         "VIGENTE"
        ],
        [
         "30",
         "136",
         "COOPERATIVA ELÉCTRICA ALBORENSE, S.A.",
         "R1-024",
         "2009-01-06 00:00:00",
         "VIGENTE"
        ],
        [
         "31",
         "73",
         "COOPERATIVA ELECTRICA BFCA.SAN FCO.DE ASIS, COOP.V.",
         "R1-033",
         "2009-01-07 00:00:00",
         "VIGENTE"
        ],
        [
         "32",
         "139",
         "COOPERATIVA POPULAR DE FLUIDO ELÉCTRICO DE CAMPRODON, S.C.C.L.",
         "R1-153",
         "2009-01-07 00:00:00",
         "VIGENTE"
        ],
        [
         "33",
         "149",
         "DECAIL ENERGÍA, S.L.",
         "R1-245",
         "2009-01-07 00:00:00",
         "VIGENTE"
        ],
        [
         "34",
         "140",
         "DELGICHI, S.L.",
         "R1-162",
         "2009-01-07 00:00:00",
         "VIGENTE"
        ],
        [
         "35",
         "141",
         "DIELEC GUERRERO LORENTE, S.L.",
         "R1-163",
         "2009-01-06 00:00:00",
         "VIGENTE"
        ],
        [
         "36",
         "142",
         "DIELENOR, S.L.",
         "R1-106",
         "2009-01-04 00:00:00",
         "VIGENTE"
        ],
        [
         "37",
         "143",
         "DIELESUR, S.L.",
         "R1-053",
         "2009-01-05 00:00:00",
         "VIGENTE"
        ],
        [
         "38",
         "146",
         "DISTRIBUCIÓN DE ELECTRICIDAD VALLE DE SANTA ANA, S.L.",
         "R1-164",
         "2009-01-07 00:00:00",
         "VIGENTE"
        ],
        [
         "39",
         "138",
         "DISTRIBUCIÓN ELÉCTRICA CATRALENSE, S.L.U.",
         "R1-063",
         "2009-01-07 00:00:00",
         "VIGENTE"
        ],
        [
         "40",
         "147",
         "DISTRIBUCIÓN ELÉCTRICA DE ALCOLECHA, S.L.",
         "R1-271",
         "2009-01-07 00:00:00",
         "VIGENTE"
        ],
        [
         "41",
         "215",
         "DISTRIBUCIÓN ELÉCTRICA DE CALLOSA DE SEGURA, S.L.U.",
         "R1-145",
         "2009-01-07 00:00:00",
         "VIGENTE"
        ],
        [
         "42",
         "483",
         "DISTRIBUCIÓN ELÉCTRICA DEL TAJUÑA, S.L.U.",
         "R1-317",
         "2009-01-07 00:00:00",
         "VIGENTE"
        ],
        [
         "43",
         "494",
         "DISTRIBUCIÓN ELÉCTRICA EL POZO DEL TÍO RAIMUNDO, S.L.U.",
         "R1-283",
         "2009-01-07 00:00:00",
         "VIGENTE"
        ],
        [
         "44",
         "148",
         "DISTRIBUCIÓN ELÉCTRICA LAS MERCEDES, S.L.",
         "R1-087",
         "2009-01-05 00:00:00",
         "VIGENTE"
        ],
        [
         "45",
         "145",
         "DISTRIBUCIÓN ENERGIA ELÉCTRICA DE PARCENT, S.L.",
         "R1-240",
         "2009-01-07 00:00:00",
         "VIGENTE"
        ],
        [
         "46",
         "461",
         "DISTRIBUCIONES ALNEGA, S.L.",
         "R1-288",
         "2009-01-06 00:00:00",
         "VIGENTE"
        ],
        [
         "47",
         "150",
         "DISTRIBUCIONES DE ENERGÍA ELÉCTRICA DEL NOROESTE, S.L.",
         "R1-185",
         "2009-01-07 00:00:00",
         "VIGENTE"
        ],
        [
         "48",
         "697",
         "DISTRIBUCIONES ELÉCTRICAS DE GISTAÍN S.L.",
         "R1-361",
         "2009-01-07 00:00:00",
         "VIGENTE"
        ],
        [
         "49",
         "561",
         "DISTRIBUCIONES ELÉCTRICAS DE POZUELO, S.A.",
         "R1-286",
         "2009-01-07 00:00:00",
         "VIGENTE"
        ]
       ],
       "shape": {
        "columns": 5,
        "rows": 326
       }
      },
      "text/html": [
       "<div>\n",
       "<style scoped>\n",
       "    .dataframe tbody tr th:only-of-type {\n",
       "        vertical-align: middle;\n",
       "    }\n",
       "\n",
       "    .dataframe tbody tr th {\n",
       "        vertical-align: top;\n",
       "    }\n",
       "\n",
       "    .dataframe thead th {\n",
       "        text-align: right;\n",
       "    }\n",
       "</style>\n",
       "<table border=\"1\" class=\"dataframe\">\n",
       "  <thead>\n",
       "    <tr style=\"text-align: right;\">\n",
       "      <th></th>\n",
       "      <th>Código</th>\n",
       "      <th>Empresa</th>\n",
       "      <th>Unidad</th>\n",
       "      <th>Fecha Alta</th>\n",
       "      <th>Estado</th>\n",
       "    </tr>\n",
       "  </thead>\n",
       "  <tbody>\n",
       "    <tr>\n",
       "      <th>0</th>\n",
       "      <td>172</td>\n",
       "      <td>ADURIZ DISTRIBUCIÓN, S.L.</td>\n",
       "      <td>R1-090</td>\n",
       "      <td>2009-01-07</td>\n",
       "      <td>VIGENTE</td>\n",
       "    </tr>\n",
       "    <tr>\n",
       "      <th>1</th>\n",
       "      <td>426</td>\n",
       "      <td>AFRODÍSIO PASCUAL ALONSO, S.L.</td>\n",
       "      <td>R1-284</td>\n",
       "      <td>2009-01-04</td>\n",
       "      <td>VIGENTE</td>\n",
       "    </tr>\n",
       "    <tr>\n",
       "      <th>2</th>\n",
       "      <td>112</td>\n",
       "      <td>AGRI ENERGÍA ELÉCTRICA, S.A.</td>\n",
       "      <td>R1-014</td>\n",
       "      <td>2009-01-03</td>\n",
       "      <td>VIGENTE</td>\n",
       "    </tr>\n",
       "    <tr>\n",
       "      <th>3</th>\n",
       "      <td>557</td>\n",
       "      <td>AGRUPACIÓN DISTRIBUIDORA DE ESCUER, S.L.</td>\n",
       "      <td>R1-310</td>\n",
       "      <td>2009-01-07</td>\n",
       "      <td>VIGENTE</td>\n",
       "    </tr>\n",
       "    <tr>\n",
       "      <th>4</th>\n",
       "      <td>420</td>\n",
       "      <td>ALARCÓN NAVARRO EMPRESA ELÉCTRICA, S.L.</td>\n",
       "      <td>R1-301</td>\n",
       "      <td>2009-01-07</td>\n",
       "      <td>VIGENTE</td>\n",
       "    </tr>\n",
       "    <tr>\n",
       "      <th>...</th>\n",
       "      <td>...</td>\n",
       "      <td>...</td>\n",
       "      <td>...</td>\n",
       "      <td>...</td>\n",
       "      <td>...</td>\n",
       "    </tr>\n",
       "    <tr>\n",
       "      <th>321</th>\n",
       "      <td>111</td>\n",
       "      <td>UNIÓN DE DISTRIBUIDORES DE ELECTRICIDAD, S.A. ...</td>\n",
       "      <td>R1-042</td>\n",
       "      <td>2009-01-03</td>\n",
       "      <td>VIGENTE</td>\n",
       "    </tr>\n",
       "    <tr>\n",
       "      <th>322</th>\n",
       "      <td>169</td>\n",
       "      <td>VALL DE SÓLLER ENERGÍA, S.L.U.</td>\n",
       "      <td>R1-056B</td>\n",
       "      <td>2019-01-03</td>\n",
       "      <td>VIGENTE</td>\n",
       "    </tr>\n",
       "    <tr>\n",
       "      <th>323</th>\n",
       "      <td>364</td>\n",
       "      <td>VARGAS Y COMPAÑÍA ELECTRO HARINERA SAN RAMÓN, ...</td>\n",
       "      <td>R1-203</td>\n",
       "      <td>2009-01-07</td>\n",
       "      <td>VIGENTE</td>\n",
       "    </tr>\n",
       "    <tr>\n",
       "      <th>324</th>\n",
       "      <td>27</td>\n",
       "      <td>VIESGO DISTRIBUCIÓN ELÉCTRICA, S.L.</td>\n",
       "      <td>R1-005</td>\n",
       "      <td>2009-01-07</td>\n",
       "      <td>VIGENTE</td>\n",
       "    </tr>\n",
       "    <tr>\n",
       "      <th>325</th>\n",
       "      <td>212</td>\n",
       "      <td>VINALESA DISTRIBUCIÓN DE ENERGÍA, S.L.U.</td>\n",
       "      <td>R1-155</td>\n",
       "      <td>2009-01-07</td>\n",
       "      <td>VIGENTE</td>\n",
       "    </tr>\n",
       "  </tbody>\n",
       "</table>\n",
       "<p>326 rows × 5 columns</p>\n",
       "</div>"
      ],
      "text/plain": [
       "     Código                                            Empresa   Unidad  \\\n",
       "0       172                          ADURIZ DISTRIBUCIÓN, S.L.   R1-090   \n",
       "1       426                     AFRODÍSIO PASCUAL ALONSO, S.L.   R1-284   \n",
       "2       112                       AGRI ENERGÍA ELÉCTRICA, S.A.   R1-014   \n",
       "3       557           AGRUPACIÓN DISTRIBUIDORA DE ESCUER, S.L.   R1-310   \n",
       "4       420            ALARCÓN NAVARRO EMPRESA ELÉCTRICA, S.L.   R1-301   \n",
       "..      ...                                                ...      ...   \n",
       "321     111  UNIÓN DE DISTRIBUIDORES DE ELECTRICIDAD, S.A. ...   R1-042   \n",
       "322     169                     VALL DE SÓLLER ENERGÍA, S.L.U.  R1-056B   \n",
       "323     364  VARGAS Y COMPAÑÍA ELECTRO HARINERA SAN RAMÓN, ...   R1-203   \n",
       "324      27                VIESGO DISTRIBUCIÓN ELÉCTRICA, S.L.   R1-005   \n",
       "325     212           VINALESA DISTRIBUCIÓN DE ENERGÍA, S.L.U.   R1-155   \n",
       "\n",
       "    Fecha Alta   Estado  \n",
       "0   2009-01-07  VIGENTE  \n",
       "1   2009-01-04  VIGENTE  \n",
       "2   2009-01-03  VIGENTE  \n",
       "3   2009-01-07  VIGENTE  \n",
       "4   2009-01-07  VIGENTE  \n",
       "..         ...      ...  \n",
       "321 2009-01-03  VIGENTE  \n",
       "322 2019-01-03  VIGENTE  \n",
       "323 2009-01-07  VIGENTE  \n",
       "324 2009-01-07  VIGENTE  \n",
       "325 2009-01-07  VIGENTE  \n",
       "\n",
       "[326 rows x 5 columns]"
      ]
     },
     "execution_count": 2,
     "metadata": {},
     "output_type": "execute_result"
    }
   ],
   "source": [
    "# https://www.esios.ree.es/es/descargas\n",
    "# Specify the path to your Excel file\n",
    "file_path = 'Excels/124-Distribuidores.xlsx'  # Adjust the path based on where your file is\n",
    "\n",
    "# Read the Excel file\n",
    "distribuidores_df = pd.read_excel(file_path)\n",
    "\n",
    "distribuidores_df"
   ]
  },
  {
   "cell_type": "markdown",
   "id": "a14ebc2b",
   "metadata": {},
   "source": [
    "## Distribucion geográfica"
   ]
  },
  {
   "cell_type": "markdown",
   "id": "30009137",
   "metadata": {},
   "source": [
    "# I-DE Redes Eléctricas Inteligentes, S.A.U. (Grupo Iberdrola)"
   ]
  },
  {
   "cell_type": "markdown",
   "id": "5390a407",
   "metadata": {},
   "source": [
    "R1-001"
   ]
  },
  {
   "cell_type": "code",
   "execution_count": null,
   "id": "8faa5193",
   "metadata": {},
   "outputs": [
    {
     "name": "stdout",
     "output_type": "stream",
     "text": [
      "Column names in the DataFrame:\n",
      "['Subestacion_iDE', 'Nivel de Tensión (kV)', 'Denominación del Punto de Conexión', 'Identificador del Punto de Conexión', 'Municipio', 'Provincia', 'Coordenada X (m) (ETRS89)', 'Coordenada Y (m) (ETRS89)', 'Capacidad de acceso disponible (MW)', 'Capacidad de acceso ocupada (MW)', 'Capacidad de solicitudes admitidas pero no resueltas (MW)', 'Unnamed: 11', 'Unnamed: 12', 'Nudo limitado por Scc', 'Subestacion_REE']\n"
     ]
    }
   ],
   "source": [
    "# https://www.i-de.es/conexion-red-electrica/produccion-energia/mapa-capacidad-acceso\n",
    "file_path = 'Excels/iDE_capacidad.xlsx'\n",
    "\n",
    "# Read the Excel file\n",
    "iDE_capacidad_df = pd.read_excel(file_path, sheet_name='Table 1', header=[0]) \n",
    "\n",
    "columns = [\n",
    "    'Subestacion_iDE',\n",
    "    'Municipio',\n",
    "    'Provincia',\n",
    "    'Coordenada X (m) (ETRS89)',\n",
    "    'Coordenada Y (m) (ETRS89)',\n",
    "    'Subestacion_REE'\n",
    "]\n",
    "\n",
    "# Get unique rows based on 'Identificador de la Subestación'\n",
    "iDE_df = iDE_capacidad_df[columns].drop_duplicates(subset='Subestacion_iDE')\n",
    "iDE_df = iDE_df[columns].dropna()\n",
    "\n",
    "# Display the resulting DataFrame\n",
    "iDE_df.style.hide(axis='index')\n",
    "\n",
    "# Optionally, save to a new Excel file\n",
    "iDE_df.to_excel('Excels/iDE.xlsx', index=False)"
   ]
  }
 ],
 "metadata": {
  "kernelspec": {
   "display_name": "Python 3",
   "language": "python",
   "name": "python3"
  },
  "language_info": {
   "codemirror_mode": {
    "name": "ipython",
    "version": 3
   },
   "file_extension": ".py",
   "mimetype": "text/x-python",
   "name": "python",
   "nbconvert_exporter": "python",
   "pygments_lexer": "ipython3",
   "version": "3.12.1"
  }
 },
 "nbformat": 4,
 "nbformat_minor": 5
}

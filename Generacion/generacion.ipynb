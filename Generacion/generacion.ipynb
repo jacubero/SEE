{
 "cells": [
  {
   "cell_type": "code",
   "execution_count": 2,
   "id": "a4b4c3c1",
   "metadata": {},
   "outputs": [
    {
     "name": "stdout",
     "output_type": "stream",
     "text": [
      "Requirement already satisfied: pandas in /home/codespace/.local/lib/python3.12/site-packages (2.3.1)\n",
      "Requirement already satisfied: numpy>=1.26.0 in /home/codespace/.local/lib/python3.12/site-packages (from pandas) (2.3.1)\n",
      "Requirement already satisfied: python-dateutil>=2.8.2 in /home/codespace/.local/lib/python3.12/site-packages (from pandas) (2.9.0.post0)\n",
      "Requirement already satisfied: pytz>=2020.1 in /home/codespace/.local/lib/python3.12/site-packages (from pandas) (2025.2)\n",
      "Requirement already satisfied: tzdata>=2022.7 in /home/codespace/.local/lib/python3.12/site-packages (from pandas) (2025.2)\n",
      "Requirement already satisfied: six>=1.5 in /home/codespace/.local/lib/python3.12/site-packages (from python-dateutil>=2.8.2->pandas) (1.17.0)\n",
      "\n",
      "\u001b[1m[\u001b[0m\u001b[34;49mnotice\u001b[0m\u001b[1;39;49m]\u001b[0m\u001b[39;49m A new release of pip is available: \u001b[0m\u001b[31;49m25.1.1\u001b[0m\u001b[39;49m -> \u001b[0m\u001b[32;49m25.2\u001b[0m\n",
      "\u001b[1m[\u001b[0m\u001b[34;49mnotice\u001b[0m\u001b[1;39;49m]\u001b[0m\u001b[39;49m To update, run: \u001b[0m\u001b[32;49mpython3 -m pip install --upgrade pip\u001b[0m\n"
     ]
    }
   ],
   "source": [
    "!pip install pandas\n",
    "\n",
    "import pandas as pd"
   ]
  },
  {
   "cell_type": "markdown",
   "id": "88d6e490",
   "metadata": {},
   "source": [
    "# Plantas de generación eléctrica"
   ]
  },
  {
   "cell_type": "code",
   "execution_count": 3,
   "id": "1ee85fde",
   "metadata": {},
   "outputs": [
    {
     "name": "stdout",
     "output_type": "stream",
     "text": [
      "--2025-08-29 13:49:50--  http://csvs/\n",
      "Resolving csvs (csvs)... failed: Name or service not known.\n",
      "wget: unable to resolve host address ‘csvs’\n",
      "--2025-08-29 13:49:50--  https://raw.githubusercontent.com/PyPSA/powerplantmatching/master/powerplants.csv\n",
      "Resolving raw.githubusercontent.com (raw.githubusercontent.com)... 185.199.108.133, 185.199.109.133, 185.199.110.133, ...\n",
      "Connecting to raw.githubusercontent.com (raw.githubusercontent.com)|185.199.108.133|:443... connected.\n",
      "HTTP request sent, awaiting response... 200 OK\n",
      "Length: 5113657 (4.9M) [text/plain]\n",
      "Saving to: ‘P’\n",
      "\n",
      "P                   100%[===================>]   4.88M  --.-KB/s    in 0.01s   \n",
      "\n",
      "2025-08-29 13:49:50 (339 MB/s) - ‘P’ saved [5113657/5113657]\n",
      "\n",
      "FINISHED --2025-08-29 13:49:50--\n",
      "Total wall clock time: 0.3s\n",
      "Downloaded: 1 files, 4.9M in 0.01s (339 MB/s)\n"
     ]
    }
   ],
   "source": [
    "!wget -OP CSVs https://raw.githubusercontent.com/PyPSA/powerplantmatching/master/powerplants.csv"
   ]
  },
  {
   "cell_type": "code",
   "execution_count": 4,
   "id": "fb60d093",
   "metadata": {},
   "outputs": [],
   "source": [
    "file_path = 'CSVs/powerplants.csv'\n",
    "\n",
    "# Read the Excel file\n",
    "df_plantas = pd.read_csv(file_path)\n",
    "\n",
    "# Create a new dataframe with only rows where country=\"ES\", keeping all columns\n",
    "df_plantas_ES = df_plantas[df_plantas['Country'] == 'Spain'].copy()\n",
    "\n",
    "df_plantas_ES.to_csv('CSVs/plantas_ES.csv', index=False)\n"
   ]
  },
  {
   "cell_type": "code",
   "execution_count": null,
   "id": "f776f5fd",
   "metadata": {},
   "outputs": [],
   "source": []
  }
 ],
 "metadata": {
  "kernelspec": {
   "display_name": "Python 3",
   "language": "python",
   "name": "python3"
  },
  "language_info": {
   "codemirror_mode": {
    "name": "ipython",
    "version": 3
   },
   "file_extension": ".py",
   "mimetype": "text/x-python",
   "name": "python",
   "nbconvert_exporter": "python",
   "pygments_lexer": "ipython3",
   "version": "3.12.1"
  }
 },
 "nbformat": 4,
 "nbformat_minor": 5
}
